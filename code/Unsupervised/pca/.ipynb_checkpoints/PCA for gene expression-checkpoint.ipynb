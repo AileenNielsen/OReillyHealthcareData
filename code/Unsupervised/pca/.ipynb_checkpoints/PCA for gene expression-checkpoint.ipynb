{
 "cells": [
  {
   "cell_type": "code",
   "execution_count": 1,
   "metadata": {
    "collapsed": false
   },
   "outputs": [],
   "source": [
    "%matplotlib inline  \n",
    "import pandas as pd\n",
    "import numpy as np\n",
    "from sklearn.decomposition import PCA\n",
    "from matplotlib import pyplot as plt"
   ]
  },
  {
   "cell_type": "markdown",
   "metadata": {},
   "source": [
    "# Read in data"
   ]
  },
  {
   "cell_type": "code",
   "execution_count": 2,
   "metadata": {
    "collapsed": false
   },
   "outputs": [],
   "source": [
    "df = pd.read_csv('gene_expression.csv')"
   ]
  },
  {
   "cell_type": "code",
   "execution_count": 3,
   "metadata": {
    "collapsed": false
   },
   "outputs": [],
   "source": [
    "df = df.drop(df.columns[0], 1)"
   ]
  },
  {
   "cell_type": "code",
   "execution_count": 4,
   "metadata": {
    "collapsed": false
   },
   "outputs": [
    {
     "data": {
      "text/html": [
       "<div>\n",
       "<style>\n",
       "    .dataframe thead tr:only-child th {\n",
       "        text-align: right;\n",
       "    }\n",
       "\n",
       "    .dataframe thead th {\n",
       "        text-align: left;\n",
       "    }\n",
       "\n",
       "    .dataframe tbody tr th {\n",
       "        vertical-align: top;\n",
       "    }\n",
       "</style>\n",
       "<table border=\"1\" class=\"dataframe\">\n",
       "  <thead>\n",
       "    <tr style=\"text-align: right;\">\n",
       "      <th></th>\n",
       "      <th>azc81</th>\n",
       "      <th>bdb223</th>\n",
       "      <th>bsj154</th>\n",
       "      <th>bwr202</th>\n",
       "      <th>drs203</th>\n",
       "      <th>eno150</th>\n",
       "      <th>hgo132</th>\n",
       "      <th>jem139</th>\n",
       "      <th>mbd135</th>\n",
       "      <th>nby169</th>\n",
       "      <th>nfb200</th>\n",
       "      <th>npo218</th>\n",
       "      <th>ofz208</th>\n",
       "      <th>qmj73</th>\n",
       "      <th>rgm35</th>\n",
       "      <th>rva241</th>\n",
       "      <th>wdb83</th>\n",
       "      <th>yfm28</th>\n",
       "    </tr>\n",
       "  </thead>\n",
       "  <tbody>\n",
       "    <tr>\n",
       "      <th>0</th>\n",
       "      <td>0.548211</td>\n",
       "      <td>0.120231</td>\n",
       "      <td>0.055537</td>\n",
       "      <td>0.110432</td>\n",
       "      <td>0.960696</td>\n",
       "      <td>0.759469</td>\n",
       "      <td>0.874050</td>\n",
       "      <td>0.807593</td>\n",
       "      <td>0.663830</td>\n",
       "      <td>0.428409</td>\n",
       "      <td>0.912917</td>\n",
       "      <td>0.940543</td>\n",
       "      <td>0.744947</td>\n",
       "      <td>0.261574</td>\n",
       "      <td>0.783734</td>\n",
       "      <td>0.934044</td>\n",
       "      <td>0.000000</td>\n",
       "      <td>0.737642</td>\n",
       "    </tr>\n",
       "    <tr>\n",
       "      <th>1</th>\n",
       "      <td>0.111383</td>\n",
       "      <td>0.353474</td>\n",
       "      <td>0.051218</td>\n",
       "      <td>0.003683</td>\n",
       "      <td>0.939109</td>\n",
       "      <td>0.872921</td>\n",
       "      <td>0.900342</td>\n",
       "      <td>0.886981</td>\n",
       "      <td>0.680817</td>\n",
       "      <td>0.722386</td>\n",
       "      <td>0.793601</td>\n",
       "      <td>0.848213</td>\n",
       "      <td>0.779071</td>\n",
       "      <td>0.243231</td>\n",
       "      <td>0.338945</td>\n",
       "      <td>0.912718</td>\n",
       "      <td>0.000000</td>\n",
       "      <td>0.926540</td>\n",
       "    </tr>\n",
       "    <tr>\n",
       "      <th>2</th>\n",
       "      <td>0.459971</td>\n",
       "      <td>0.594186</td>\n",
       "      <td>1.000000</td>\n",
       "      <td>0.946645</td>\n",
       "      <td>0.399635</td>\n",
       "      <td>0.359502</td>\n",
       "      <td>0.342766</td>\n",
       "      <td>0.335695</td>\n",
       "      <td>0.544554</td>\n",
       "      <td>0.689002</td>\n",
       "      <td>0.364604</td>\n",
       "      <td>0.946927</td>\n",
       "      <td>0.886632</td>\n",
       "      <td>0.815887</td>\n",
       "      <td>0.555462</td>\n",
       "      <td>0.405912</td>\n",
       "      <td>0.700435</td>\n",
       "      <td>0.396066</td>\n",
       "    </tr>\n",
       "    <tr>\n",
       "      <th>3</th>\n",
       "      <td>0.099305</td>\n",
       "      <td>0.378251</td>\n",
       "      <td>0.591589</td>\n",
       "      <td>0.619087</td>\n",
       "      <td>0.901629</td>\n",
       "      <td>0.984772</td>\n",
       "      <td>0.802375</td>\n",
       "      <td>1.000000</td>\n",
       "      <td>0.270841</td>\n",
       "      <td>0.298178</td>\n",
       "      <td>0.434799</td>\n",
       "      <td>0.395561</td>\n",
       "      <td>0.077296</td>\n",
       "      <td>0.248131</td>\n",
       "      <td>0.274456</td>\n",
       "      <td>0.885201</td>\n",
       "      <td>0.476311</td>\n",
       "      <td>0.932371</td>\n",
       "    </tr>\n",
       "    <tr>\n",
       "      <th>4</th>\n",
       "      <td>0.460037</td>\n",
       "      <td>0.387290</td>\n",
       "      <td>0.829306</td>\n",
       "      <td>0.955035</td>\n",
       "      <td>0.464486</td>\n",
       "      <td>0.745253</td>\n",
       "      <td>0.637082</td>\n",
       "      <td>0.816490</td>\n",
       "      <td>0.955152</td>\n",
       "      <td>0.086996</td>\n",
       "      <td>0.751228</td>\n",
       "      <td>0.104130</td>\n",
       "      <td>0.473013</td>\n",
       "      <td>0.645816</td>\n",
       "      <td>0.123011</td>\n",
       "      <td>0.467099</td>\n",
       "      <td>1.000000</td>\n",
       "      <td>0.888156</td>\n",
       "    </tr>\n",
       "  </tbody>\n",
       "</table>\n",
       "</div>"
      ],
      "text/plain": [
       "\n",
       "      azc81    bdb223    bsj154    bwr202    drs203    eno150    hgo132  \\\n",
       "0  0.548211  0.120231  0.055537  0.110432  0.960696  0.759469  0.874050   \n",
       "1  0.111383  0.353474  0.051218  0.003683  0.939109  0.872921  0.900342   \n",
       "2  0.459971  0.594186  1.000000  0.946645  0.399635  0.359502  0.342766   \n",
       "3  0.099305  0.378251  0.591589  0.619087  0.901629  0.984772  0.802375   \n",
       "4  0.460037  0.387290  0.829306  0.955035  0.464486  0.745253  0.637082   \n",
       "\n",
       "     jem139    mbd135    nby169    nfb200    npo218    ofz208     qmj73  \\\n",
       "0  0.807593  0.663830  0.428409  0.912917  0.940543  0.744947  0.261574   \n",
       "1  0.886981  0.680817  0.722386  0.793601  0.848213  0.779071  0.243231   \n",
       "2  0.335695  0.544554  0.689002  0.364604  0.946927  0.886632  0.815887   \n",
       "3  1.000000  0.270841  0.298178  0.434799  0.395561  0.077296  0.248131   \n",
       "4  0.816490  0.955152  0.086996  0.751228  0.104130  0.473013  0.645816   \n",
       "\n",
       "      rgm35    rva241     wdb83     yfm28  \n",
       "0  0.783734  0.934044  0.000000  0.737642  \n",
       "1  0.338945  0.912718  0.000000  0.926540  \n",
       "2  0.555462  0.405912  0.700435  0.396066  \n",
       "3  0.274456  0.885201  0.476311  0.932371  \n",
       "4  0.123011  0.467099  1.000000  0.888156  "
      ]
     },
     "metadata": {},
     "output_type": "display_data"
    }
   ],
   "source": [
    "df.head()"
   ]
  },
  {
   "cell_type": "code",
   "execution_count": 5,
   "metadata": {
    "collapsed": false
   },
   "outputs": [
    {
     "data": {
      "text/plain": [
       "array([[<matplotlib.axes._subplots.AxesSubplot object at 0x114dd0a90>,\n",
       "        <matplotlib.axes._subplots.AxesSubplot object at 0x115544ef0>,\n",
       "        <matplotlib.axes._subplots.AxesSubplot object at 0x1156460f0>,\n",
       "        <matplotlib.axes._subplots.AxesSubplot object at 0x11568f208>,\n",
       "        <matplotlib.axes._subplots.AxesSubplot object at 0x1156c8c18>,\n",
       "        <matplotlib.axes._subplots.AxesSubplot object at 0x1183e7710>,\n",
       "        <matplotlib.axes._subplots.AxesSubplot object at 0x11841feb8>,\n",
       "        <matplotlib.axes._subplots.AxesSubplot object at 0x118466c18>,\n",
       "        <matplotlib.axes._subplots.AxesSubplot object at 0x118476e48>,\n",
       "        <matplotlib.axes._subplots.AxesSubplot object at 0x1184f77f0>,\n",
       "        <matplotlib.axes._subplots.AxesSubplot object at 0x118647748>,\n",
       "        <matplotlib.axes._subplots.AxesSubplot object at 0x118688198>,\n",
       "        <matplotlib.axes._subplots.AxesSubplot object at 0x1186d31d0>,\n",
       "        <matplotlib.axes._subplots.AxesSubplot object at 0x11880ef98>,\n",
       "        <matplotlib.axes._subplots.AxesSubplot object at 0x11885b6d8>,\n",
       "        <matplotlib.axes._subplots.AxesSubplot object at 0x118893dd8>,\n",
       "        <matplotlib.axes._subplots.AxesSubplot object at 0x1188e7160>,\n",
       "        <matplotlib.axes._subplots.AxesSubplot object at 0x118b2bf60>],\n",
       "       [<matplotlib.axes._subplots.AxesSubplot object at 0x118b70710>,\n",
       "        <matplotlib.axes._subplots.AxesSubplot object at 0x118bc0048>,\n",
       "        <matplotlib.axes._subplots.AxesSubplot object at 0x118bf69b0>,\n",
       "        <matplotlib.axes._subplots.AxesSubplot object at 0x118c4a160>,\n",
       "        <matplotlib.axes._subplots.AxesSubplot object at 0x118c817f0>,\n",
       "        <matplotlib.axes._subplots.AxesSubplot object at 0x118ccaa20>,\n",
       "        <matplotlib.axes._subplots.AxesSubplot object at 0x118cd7908>,\n",
       "        <matplotlib.axes._subplots.AxesSubplot object at 0x118d585f8>,\n",
       "        <matplotlib.axes._subplots.AxesSubplot object at 0x118da3940>,\n",
       "        <matplotlib.axes._subplots.AxesSubplot object at 0x118ddf4a8>,\n",
       "        <matplotlib.axes._subplots.AxesSubplot object at 0x118f284e0>,\n",
       "        <matplotlib.axes._subplots.AxesSubplot object at 0x118f69c88>,\n",
       "        <matplotlib.axes._subplots.AxesSubplot object at 0x118fb91d0>,\n",
       "        <matplotlib.axes._subplots.AxesSubplot object at 0x118ff0ac8>,\n",
       "        <matplotlib.axes._subplots.AxesSubplot object at 0x11913ccf8>,\n",
       "        <matplotlib.axes._subplots.AxesSubplot object at 0x11918c710>,\n",
       "        <matplotlib.axes._subplots.AxesSubplot object at 0x1191cc5f8>,\n",
       "        <matplotlib.axes._subplots.AxesSubplot object at 0x119216940>],\n",
       "       [<matplotlib.axes._subplots.AxesSubplot object at 0x119233320>,\n",
       "        <matplotlib.axes._subplots.AxesSubplot object at 0x119284780>,\n",
       "        <matplotlib.axes._subplots.AxesSubplot object at 0x1192c4278>,\n",
       "        <matplotlib.axes._subplots.AxesSubplot object at 0x119312240>,\n",
       "        <matplotlib.axes._subplots.AxesSubplot object at 0x11932fe10>,\n",
       "        <matplotlib.axes._subplots.AxesSubplot object at 0x1193976a0>,\n",
       "        <matplotlib.axes._subplots.AxesSubplot object at 0x1193e17b8>,\n",
       "        <matplotlib.axes._subplots.AxesSubplot object at 0x119520400>,\n",
       "        <matplotlib.axes._subplots.AxesSubplot object at 0x11956cdd8>,\n",
       "        <matplotlib.axes._subplots.AxesSubplot object at 0x1195a66a0>,\n",
       "        <matplotlib.axes._subplots.AxesSubplot object at 0x1195f62b0>,\n",
       "        <matplotlib.axes._subplots.AxesSubplot object at 0x1195c4438>,\n",
       "        <matplotlib.axes._subplots.AxesSubplot object at 0x11967add8>,\n",
       "        <matplotlib.axes._subplots.AxesSubplot object at 0x1196c4e10>,\n",
       "        <matplotlib.axes._subplots.AxesSubplot object at 0x119705dd8>,\n",
       "        <matplotlib.axes._subplots.AxesSubplot object at 0x119753710>,\n",
       "        <matplotlib.axes._subplots.AxesSubplot object at 0x11978cf60>,\n",
       "        <matplotlib.axes._subplots.AxesSubplot object at 0x1197de710>],\n",
       "       [<matplotlib.axes._subplots.AxesSubplot object at 0x119914da0>,\n",
       "        <matplotlib.axes._subplots.AxesSubplot object at 0x11995ffd0>,\n",
       "        <matplotlib.axes._subplots.AxesSubplot object at 0x11996f400>,\n",
       "        <matplotlib.axes._subplots.AxesSubplot object at 0x1199ecba8>,\n",
       "        <matplotlib.axes._subplots.AxesSubplot object at 0x119b38ef0>,\n",
       "        <matplotlib.axes._subplots.AxesSubplot object at 0x119b74a58>,\n",
       "        <matplotlib.axes._subplots.AxesSubplot object at 0x119bbca90>,\n",
       "        <matplotlib.axes._subplots.AxesSubplot object at 0x119bf3278>,\n",
       "        <matplotlib.axes._subplots.AxesSubplot object at 0x119c39c50>,\n",
       "        <matplotlib.axes._subplots.AxesSubplot object at 0x119c05358>,\n",
       "        <matplotlib.axes._subplots.AxesSubplot object at 0x119cc59b0>,\n",
       "        <matplotlib.axes._subplots.AxesSubplot object at 0x119f0e9e8>,\n",
       "        <matplotlib.axes._subplots.AxesSubplot object at 0x119f4d9b0>,\n",
       "        <matplotlib.axes._subplots.AxesSubplot object at 0x119f9d2e8>,\n",
       "        <matplotlib.axes._subplots.AxesSubplot object at 0x119fd2b38>,\n",
       "        <matplotlib.axes._subplots.AxesSubplot object at 0x11a1272e8>,\n",
       "        <matplotlib.axes._subplots.AxesSubplot object at 0x11a15f978>,\n",
       "        <matplotlib.axes._subplots.AxesSubplot object at 0x11a1a8ba8>],\n",
       "       [<matplotlib.axes._subplots.AxesSubplot object at 0x11a1b8cf8>,\n",
       "        <matplotlib.axes._subplots.AxesSubplot object at 0x11a236780>,\n",
       "        <matplotlib.axes._subplots.AxesSubplot object at 0x11a280ac8>,\n",
       "        <matplotlib.axes._subplots.AxesSubplot object at 0x11a2bf630>,\n",
       "        <matplotlib.axes._subplots.AxesSubplot object at 0x11a408668>,\n",
       "        <matplotlib.axes._subplots.AxesSubplot object at 0x11a447e10>,\n",
       "        <matplotlib.axes._subplots.AxesSubplot object at 0x11a497358>,\n",
       "        <matplotlib.axes._subplots.AxesSubplot object at 0x11a4ccc50>,\n",
       "        <matplotlib.axes._subplots.AxesSubplot object at 0x11a51ae80>,\n",
       "        <matplotlib.axes._subplots.AxesSubplot object at 0x11a56a898>,\n",
       "        <matplotlib.axes._subplots.AxesSubplot object at 0x11a5ab780>,\n",
       "        <matplotlib.axes._subplots.AxesSubplot object at 0x11a5f3ac8>,\n",
       "        <matplotlib.axes._subplots.AxesSubplot object at 0x11a830ef0>,\n",
       "        <matplotlib.axes._subplots.AxesSubplot object at 0x11a87e9e8>,\n",
       "        <matplotlib.axes._subplots.AxesSubplot object at 0x119faca20>,\n",
       "        <matplotlib.axes._subplots.AxesSubplot object at 0x11a8f5e80>,\n",
       "        <matplotlib.axes._subplots.AxesSubplot object at 0x11a918550>,\n",
       "        <matplotlib.axes._subplots.AxesSubplot object at 0x11a978f60>],\n",
       "       [<matplotlib.axes._subplots.AxesSubplot object at 0x11a9cb0b8>,\n",
       "        <matplotlib.axes._subplots.AxesSubplot object at 0x11aa03da0>,\n",
       "        <matplotlib.axes._subplots.AxesSubplot object at 0x11aa537b8>,\n",
       "        <matplotlib.axes._subplots.AxesSubplot object at 0x11aa92080>,\n",
       "        <matplotlib.axes._subplots.AxesSubplot object at 0x11aad8c50>,\n",
       "        <matplotlib.axes._subplots.AxesSubplot object at 0x11aaa8080>,\n",
       "        <matplotlib.axes._subplots.AxesSubplot object at 0x11ac957b8>,\n",
       "        <matplotlib.axes._subplots.AxesSubplot object at 0x11acdd7f0>,\n",
       "        <matplotlib.axes._subplots.AxesSubplot object at 0x11ad1e7b8>,\n",
       "        <matplotlib.axes._subplots.AxesSubplot object at 0x11ad6e0f0>,\n",
       "        <matplotlib.axes._subplots.AxesSubplot object at 0x11ada4940>,\n",
       "        <matplotlib.axes._subplots.AxesSubplot object at 0x11af060f0>,\n",
       "        <matplotlib.axes._subplots.AxesSubplot object at 0x11af3e780>,\n",
       "        <matplotlib.axes._subplots.AxesSubplot object at 0x11af879b0>,\n",
       "        <matplotlib.axes._subplots.AxesSubplot object at 0x11af91898>,\n",
       "        <matplotlib.axes._subplots.AxesSubplot object at 0x11b916588>,\n",
       "        <matplotlib.axes._subplots.AxesSubplot object at 0x11b9608d0>,\n",
       "        <matplotlib.axes._subplots.AxesSubplot object at 0x11b99c438>],\n",
       "       [<matplotlib.axes._subplots.AxesSubplot object at 0x11b9e4470>,\n",
       "        <matplotlib.axes._subplots.AxesSubplot object at 0x11ba25c18>,\n",
       "        <matplotlib.axes._subplots.AxesSubplot object at 0x11ba76160>,\n",
       "        <matplotlib.axes._subplots.AxesSubplot object at 0x11baada58>,\n",
       "        <matplotlib.axes._subplots.AxesSubplot object at 0x11bafac88>,\n",
       "        <matplotlib.axes._subplots.AxesSubplot object at 0x11bb4a6a0>,\n",
       "        <matplotlib.axes._subplots.AxesSubplot object at 0x11bb89588>,\n",
       "        <matplotlib.axes._subplots.AxesSubplot object at 0x11bbd28d0>,\n",
       "        <matplotlib.axes._subplots.AxesSubplot object at 0x11bbfecf8>,\n",
       "        <matplotlib.axes._subplots.AxesSubplot object at 0x11bd504a8>,\n",
       "        <matplotlib.axes._subplots.AxesSubplot object at 0x11bd86b38>,\n",
       "        <matplotlib.axes._subplots.AxesSubplot object at 0x11bdcfd68>,\n",
       "        <matplotlib.axes._subplots.AxesSubplot object at 0x11bde0a20>,\n",
       "        <matplotlib.axes._subplots.AxesSubplot object at 0x11bf5e940>,\n",
       "        <matplotlib.axes._subplots.AxesSubplot object at 0x11bfa7c88>,\n",
       "        <matplotlib.axes._subplots.AxesSubplot object at 0x11bfe57f0>,\n",
       "        <matplotlib.axes._subplots.AxesSubplot object at 0x11c02e828>,\n",
       "        <matplotlib.axes._subplots.AxesSubplot object at 0x11c06cfd0>],\n",
       "       [<matplotlib.axes._subplots.AxesSubplot object at 0x11c0bc518>,\n",
       "        <matplotlib.axes._subplots.AxesSubplot object at 0x11c0f4e10>,\n",
       "        <matplotlib.axes._subplots.AxesSubplot object at 0x11c149080>,\n",
       "        <matplotlib.axes._subplots.AxesSubplot object at 0x11c190a58>,\n",
       "        <matplotlib.axes._subplots.AxesSubplot object at 0x11c1d0940>,\n",
       "        <matplotlib.axes._subplots.AxesSubplot object at 0x11c31cc88>,\n",
       "        <matplotlib.axes._subplots.AxesSubplot object at 0x11c35e0f0>,\n",
       "        <matplotlib.axes._subplots.AxesSubplot object at 0x11c3a6ba8>,\n",
       "        <matplotlib.axes._subplots.AxesSubplot object at 0x11c3e3390>,\n",
       "        <matplotlib.axes._subplots.AxesSubplot object at 0x11c52b1d0>,\n",
       "        <matplotlib.axes._subplots.AxesSubplot object at 0x11c538160>,\n",
       "        <matplotlib.axes._subplots.AxesSubplot object at 0x11c5b5ba8>,\n",
       "        <matplotlib.axes._subplots.AxesSubplot object at 0x11c6009e8>,\n",
       "        <matplotlib.axes._subplots.AxesSubplot object at 0x11c63fbe0>,\n",
       "        <matplotlib.axes._subplots.AxesSubplot object at 0x11c68e518>,\n",
       "        <matplotlib.axes._subplots.AxesSubplot object at 0x11c6c5d68>,\n",
       "        <matplotlib.axes._subplots.AxesSubplot object at 0x11c719518>,\n",
       "        <matplotlib.axes._subplots.AxesSubplot object at 0x11c74fba8>],\n",
       "       [<matplotlib.axes._subplots.AxesSubplot object at 0x11c799dd8>,\n",
       "        <matplotlib.axes._subplots.AxesSubplot object at 0x11c7a9a20>,\n",
       "        <matplotlib.axes._subplots.AxesSubplot object at 0x11ca289b0>,\n",
       "        <matplotlib.axes._subplots.AxesSubplot object at 0x11ca72cf8>,\n",
       "        <matplotlib.axes._subplots.AxesSubplot object at 0x11caae860>,\n",
       "        <matplotlib.axes._subplots.AxesSubplot object at 0x11caf8898>,\n",
       "        <matplotlib.axes._subplots.AxesSubplot object at 0x11cd3d080>,\n",
       "        <matplotlib.axes._subplots.AxesSubplot object at 0x11cd87588>,\n",
       "        <matplotlib.axes._subplots.AxesSubplot object at 0x11cdc0e80>,\n",
       "        <matplotlib.axes._subplots.AxesSubplot object at 0x11ce120f0>,\n",
       "        <matplotlib.axes._subplots.AxesSubplot object at 0x11ce59ac8>,\n",
       "        <matplotlib.axes._subplots.AxesSubplot object at 0x11ce7d9b0>,\n",
       "        <matplotlib.axes._subplots.AxesSubplot object at 0x11ceced30>,\n",
       "        <matplotlib.axes._subplots.AxesSubplot object at 0x11cf0a5f8>,\n",
       "        <matplotlib.axes._subplots.AxesSubplot object at 0x11cf52828>,\n",
       "        <matplotlib.axes._subplots.AxesSubplot object at 0x11cf95438>,\n",
       "        <matplotlib.axes._subplots.AxesSubplot object at 0x11cfe2400>,\n",
       "        <matplotlib.axes._subplots.AxesSubplot object at 0x11d201fd0>],\n",
       "       [<matplotlib.axes._subplots.AxesSubplot object at 0x11d269860>,\n",
       "        <matplotlib.axes._subplots.AxesSubplot object at 0x11d2b3978>,\n",
       "        <matplotlib.axes._subplots.AxesSubplot object at 0x11d2f35c0>,\n",
       "        <matplotlib.axes._subplots.AxesSubplot object at 0x11d33bf98>,\n",
       "        <matplotlib.axes._subplots.AxesSubplot object at 0x11d378860>,\n",
       "        <matplotlib.axes._subplots.AxesSubplot object at 0x11d3c7470>,\n",
       "        <matplotlib.axes._subplots.AxesSubplot object at 0x11d3967b8>,\n",
       "        <matplotlib.axes._subplots.AxesSubplot object at 0x11d44cf98>,\n",
       "        <matplotlib.axes._subplots.AxesSubplot object at 0x11d495fd0>,\n",
       "        <matplotlib.axes._subplots.AxesSubplot object at 0x11d4d6f98>,\n",
       "        <matplotlib.axes._subplots.AxesSubplot object at 0x11d6258d0>,\n",
       "        <matplotlib.axes._subplots.AxesSubplot object at 0x11d660160>,\n",
       "        <matplotlib.axes._subplots.AxesSubplot object at 0x11d6b08d0>,\n",
       "        <matplotlib.axes._subplots.AxesSubplot object at 0x11d6e7f60>,\n",
       "        <matplotlib.axes._subplots.AxesSubplot object at 0x11d7341d0>,\n",
       "        <matplotlib.axes._subplots.AxesSubplot object at 0x11d73f390>,\n",
       "        <matplotlib.axes._subplots.AxesSubplot object at 0x11d7bfd68>,\n",
       "        <matplotlib.axes._subplots.AxesSubplot object at 0x11d90e0f0>],\n",
       "       [<matplotlib.axes._subplots.AxesSubplot object at 0x11d944c18>,\n",
       "        <matplotlib.axes._subplots.AxesSubplot object at 0x11d98fc50>,\n",
       "        <matplotlib.axes._subplots.AxesSubplot object at 0x11d9d3438>,\n",
       "        <matplotlib.axes._subplots.AxesSubplot object at 0x11da1d940>,\n",
       "        <matplotlib.axes._subplots.AxesSubplot object at 0x11da5e278>,\n",
       "        <matplotlib.axes._subplots.AxesSubplot object at 0x11daa94a8>,\n",
       "        <matplotlib.axes._subplots.AxesSubplot object at 0x11daf1e80>,\n",
       "        <matplotlib.axes._subplots.AxesSubplot object at 0x11dc32d68>,\n",
       "        <matplotlib.axes._subplots.AxesSubplot object at 0x11dc820f0>,\n",
       "        <matplotlib.axes._subplots.AxesSubplot object at 0x11dcbe518>,\n",
       "        <matplotlib.axes._subplots.AxesSubplot object at 0x11dd68fd0>,\n",
       "        <matplotlib.axes._subplots.AxesSubplot object at 0x11dda37b8>,\n",
       "        <matplotlib.axes._subplots.AxesSubplot object at 0x11ddee5f8>,\n",
       "        <matplotlib.axes._subplots.AxesSubplot object at 0x11ddfd358>,\n",
       "        <matplotlib.axes._subplots.AxesSubplot object at 0x11de75fd0>,\n",
       "        <matplotlib.axes._subplots.AxesSubplot object at 0x11dec1e10>,\n",
       "        <matplotlib.axes._subplots.AxesSubplot object at 0x11e026048>,\n",
       "        <matplotlib.axes._subplots.AxesSubplot object at 0x11e06e940>],\n",
       "       [<matplotlib.axes._subplots.AxesSubplot object at 0x11e0ac1d0>,\n",
       "        <matplotlib.axes._subplots.AxesSubplot object at 0x11e0fb940>,\n",
       "        <matplotlib.axes._subplots.AxesSubplot object at 0x11e32efd0>,\n",
       "        <matplotlib.axes._subplots.AxesSubplot object at 0x11e380240>,\n",
       "        <matplotlib.axes._subplots.AxesSubplot object at 0x11e38a080>,\n",
       "        <matplotlib.axes._subplots.AxesSubplot object at 0x11e3e73c8>,\n",
       "        <matplotlib.axes._subplots.AxesSubplot object at 0x11e43c390>,\n",
       "        <matplotlib.axes._subplots.AxesSubplot object at 0x11e472c50>,\n",
       "        <matplotlib.axes._subplots.AxesSubplot object at 0x11e4bae80>,\n",
       "        <matplotlib.axes._subplots.AxesSubplot object at 0x11e502080>,\n",
       "        <matplotlib.axes._subplots.AxesSubplot object at 0x11e54a668>,\n",
       "        <matplotlib.axes._subplots.AxesSubplot object at 0x11e582e80>,\n",
       "        <matplotlib.axes._subplots.AxesSubplot object at 0x11e5d7208>,\n",
       "        <matplotlib.axes._subplots.AxesSubplot object at 0x11e81ebe0>,\n",
       "        <matplotlib.axes._subplots.AxesSubplot object at 0x11e85e9b0>,\n",
       "        <matplotlib.axes._subplots.AxesSubplot object at 0x11e8a9cf8>,\n",
       "        <matplotlib.axes._subplots.AxesSubplot object at 0x11e8eb160>,\n",
       "        <matplotlib.axes._subplots.AxesSubplot object at 0x11ea33c18>],\n",
       "       [<matplotlib.axes._subplots.AxesSubplot object at 0x11ea71400>,\n",
       "        <matplotlib.axes._subplots.AxesSubplot object at 0x11eab9240>,\n",
       "        <matplotlib.axes._subplots.AxesSubplot object at 0x11eac0ac8>,\n",
       "        <matplotlib.axes._subplots.AxesSubplot object at 0x11eb42c18>,\n",
       "        <matplotlib.axes._subplots.AxesSubplot object at 0x11eb8da58>,\n",
       "        <matplotlib.axes._subplots.AxesSubplot object at 0x11ebcdc50>,\n",
       "        <matplotlib.axes._subplots.AxesSubplot object at 0x11ec1d588>,\n",
       "        <matplotlib.axes._subplots.AxesSubplot object at 0x11ec52dd8>,\n",
       "        <matplotlib.axes._subplots.AxesSubplot object at 0x11eca6588>,\n",
       "        <matplotlib.axes._subplots.AxesSubplot object at 0x11ecddc18>,\n",
       "        <matplotlib.axes._subplots.AxesSubplot object at 0x11ee27e48>,\n",
       "        <matplotlib.axes._subplots.AxesSubplot object at 0x11ee37198>,\n",
       "        <matplotlib.axes._subplots.AxesSubplot object at 0x11eeb7a20>,\n",
       "        <matplotlib.axes._subplots.AxesSubplot object at 0x11eeffd68>,\n",
       "        <matplotlib.axes._subplots.AxesSubplot object at 0x11ef3c8d0>,\n",
       "        <matplotlib.axes._subplots.AxesSubplot object at 0x11ef85908>,\n",
       "        <matplotlib.axes._subplots.AxesSubplot object at 0x11efcc0f0>,\n",
       "        <matplotlib.axes._subplots.AxesSubplot object at 0x11f1155f8>],\n",
       "       [<matplotlib.axes._subplots.AxesSubplot object at 0x11f14cef0>,\n",
       "        <matplotlib.axes._subplots.AxesSubplot object at 0x11f19f160>,\n",
       "        <matplotlib.axes._subplots.AxesSubplot object at 0x11f1e8b38>,\n",
       "        <matplotlib.axes._subplots.AxesSubplot object at 0x11f328a20>,\n",
       "        <matplotlib.axes._subplots.AxesSubplot object at 0x11f373d68>,\n",
       "        <matplotlib.axes._subplots.AxesSubplot object at 0x11f3b51d0>,\n",
       "        <matplotlib.axes._subplots.AxesSubplot object at 0x11f3fbc88>,\n",
       "        <matplotlib.axes._subplots.AxesSubplot object at 0x11f439470>,\n",
       "        <matplotlib.axes._subplots.AxesSubplot object at 0x11f4822b0>,\n",
       "        <matplotlib.axes._subplots.AxesSubplot object at 0x11f48a5f8>,\n",
       "        <matplotlib.axes._subplots.AxesSubplot object at 0x11f50ec88>,\n",
       "        <matplotlib.axes._subplots.AxesSubplot object at 0x11f558ac8>,\n",
       "        <matplotlib.axes._subplots.AxesSubplot object at 0x11f595cc0>,\n",
       "        <matplotlib.axes._subplots.AxesSubplot object at 0x11f5e65f8>,\n",
       "        <matplotlib.axes._subplots.AxesSubplot object at 0x11f71ce48>,\n",
       "        <matplotlib.axes._subplots.AxesSubplot object at 0x11f7715f8>,\n",
       "        <matplotlib.axes._subplots.AxesSubplot object at 0x11f7a8c88>,\n",
       "        <matplotlib.axes._subplots.AxesSubplot object at 0x11f7f0eb8>],\n",
       "       [<matplotlib.axes._subplots.AxesSubplot object at 0x11f901208>,\n",
       "        <matplotlib.axes._subplots.AxesSubplot object at 0x11f97fa90>,\n",
       "        <matplotlib.axes._subplots.AxesSubplot object at 0x11f9c8dd8>,\n",
       "        <matplotlib.axes._subplots.AxesSubplot object at 0x11fb05940>,\n",
       "        <matplotlib.axes._subplots.AxesSubplot object at 0x11fb50978>,\n",
       "        <matplotlib.axes._subplots.AxesSubplot object at 0x11fb95160>,\n",
       "        <matplotlib.axes._subplots.AxesSubplot object at 0x11fbdf668>,\n",
       "        <matplotlib.axes._subplots.AxesSubplot object at 0x11fc17f60>,\n",
       "        <matplotlib.axes._subplots.AxesSubplot object at 0x11fc6a1d0>,\n",
       "        <matplotlib.axes._subplots.AxesSubplot object at 0x11fcb4ba8>,\n",
       "        <matplotlib.axes._subplots.AxesSubplot object at 0x11fcc2a90>,\n",
       "        <matplotlib.axes._subplots.AxesSubplot object at 0x11fd174a8>,\n",
       "        <matplotlib.axes._subplots.AxesSubplot object at 0x11fd53400>,\n",
       "        <matplotlib.axes._subplots.AxesSubplot object at 0x11fd9fb70>,\n",
       "        <matplotlib.axes._subplots.AxesSubplot object at 0x11fdde240>,\n",
       "        <matplotlib.axes._subplots.AxesSubplot object at 0x11ff27470>,\n",
       "        <matplotlib.axes._subplots.AxesSubplot object at 0x11ff322b0>,\n",
       "        <matplotlib.axes._subplots.AxesSubplot object at 0x11ffb7048>],\n",
       "       [<matplotlib.axes._subplots.AxesSubplot object at 0x11ffff390>,\n",
       "        <matplotlib.axes._subplots.AxesSubplot object at 0x120136eb8>,\n",
       "        <matplotlib.axes._subplots.AxesSubplot object at 0x120180ef0>,\n",
       "        <matplotlib.axes._subplots.AxesSubplot object at 0x1201c46d8>,\n",
       "        <matplotlib.axes._subplots.AxesSubplot object at 0x120210be0>,\n",
       "        <matplotlib.axes._subplots.AxesSubplot object at 0x12024f518>,\n",
       "        <matplotlib.axes._subplots.AxesSubplot object at 0x120299748>,\n",
       "        <matplotlib.axes._subplots.AxesSubplot object at 0x1202e8160>,\n",
       "        <matplotlib.axes._subplots.AxesSubplot object at 0x12042b048>,\n",
       "        <matplotlib.axes._subplots.AxesSubplot object at 0x120474390>,\n",
       "        <matplotlib.axes._subplots.AxesSubplot object at 0x1204ae7b8>,\n",
       "        <matplotlib.axes._subplots.AxesSubplot object at 0x1204fd2b0>,\n",
       "        <matplotlib.axes._subplots.AxesSubplot object at 0x120534a58>,\n",
       "        <matplotlib.axes._subplots.AxesSubplot object at 0x12057e898>,\n",
       "        <matplotlib.axes._subplots.AxesSubplot object at 0x12058c6d8>,\n",
       "        <matplotlib.axes._subplots.AxesSubplot object at 0x12060d2b0>,\n",
       "        <matplotlib.axes._subplots.AxesSubplot object at 0x1206570f0>,\n",
       "        <matplotlib.axes._subplots.AxesSubplot object at 0x1206972e8>],\n",
       "       [<matplotlib.axes._subplots.AxesSubplot object at 0x1206e0be0>,\n",
       "        <matplotlib.axes._subplots.AxesSubplot object at 0x12081d470>,\n",
       "        <matplotlib.axes._subplots.AxesSubplot object at 0x12086bbe0>,\n",
       "        <matplotlib.axes._subplots.AxesSubplot object at 0x1208a72b0>,\n",
       "        <matplotlib.axes._subplots.AxesSubplot object at 0x1208f04e0>,\n",
       "        <matplotlib.axes._subplots.AxesSubplot object at 0x1208fc978>,\n",
       "        <matplotlib.axes._subplots.AxesSubplot object at 0x120c810b8>,\n",
       "        <matplotlib.axes._subplots.AxesSubplot object at 0x120cca400>,\n",
       "        <matplotlib.axes._subplots.AxesSubplot object at 0x120d01f28>,\n",
       "        <matplotlib.axes._subplots.AxesSubplot object at 0x120d48f60>,\n",
       "        <matplotlib.axes._subplots.AxesSubplot object at 0x120d8f748>,\n",
       "        <matplotlib.axes._subplots.AxesSubplot object at 0x120ddac50>,\n",
       "        <matplotlib.axes._subplots.AxesSubplot object at 0x120e1c588>,\n",
       "        <matplotlib.axes._subplots.AxesSubplot object at 0x120e647b8>,\n",
       "        <matplotlib.axes._subplots.AxesSubplot object at 0x120eb51d0>,\n",
       "        <matplotlib.axes._subplots.AxesSubplot object at 0x120ef40b8>,\n",
       "        <matplotlib.axes._subplots.AxesSubplot object at 0x12103e400>,\n",
       "        <matplotlib.axes._subplots.AxesSubplot object at 0x12107a828>],\n",
       "       [<matplotlib.axes._subplots.AxesSubplot object at 0x1210c8320>,\n",
       "        <matplotlib.axes._subplots.AxesSubplot object at 0x121100ac8>,\n",
       "        <matplotlib.axes._subplots.AxesSubplot object at 0x12114a908>,\n",
       "        <matplotlib.axes._subplots.AxesSubplot object at 0x121158550>,\n",
       "        <matplotlib.axes._subplots.AxesSubplot object at 0x1211d9320>,\n",
       "        <matplotlib.axes._subplots.AxesSubplot object at 0x121322160>,\n",
       "        <matplotlib.axes._subplots.AxesSubplot object at 0x121361358>,\n",
       "        <matplotlib.axes._subplots.AxesSubplot object at 0x1213adc50>,\n",
       "        <matplotlib.axes._subplots.AxesSubplot object at 0x1213e94e0>,\n",
       "        <matplotlib.axes._subplots.AxesSubplot object at 0x121535c50>,\n",
       "        <matplotlib.axes._subplots.AxesSubplot object at 0x121573320>,\n",
       "        <matplotlib.axes._subplots.AxesSubplot object at 0x1215bb550>,\n",
       "        <matplotlib.axes._subplots.AxesSubplot object at 0x1215c8eb8>,\n",
       "        <matplotlib.axes._subplots.AxesSubplot object at 0x12164c128>,\n",
       "        <matplotlib.axes._subplots.AxesSubplot object at 0x121695470>,\n",
       "        <matplotlib.axes._subplots.AxesSubplot object at 0x1216caf98>,\n",
       "        <matplotlib.axes._subplots.AxesSubplot object at 0x121715fd0>,\n",
       "        <matplotlib.axes._subplots.AxesSubplot object at 0x12175a7b8>]], dtype=object)"
      ]
     },
     "execution_count": 5,
     "metadata": {},
     "output_type": "execute_result"
    },
    {
     "data": {
      "image/png": "[encoded data removed]",
      "text/plain": [
       "<matplotlib.figure.Figure at 0x114db27b8>"
      ]
     },
     "metadata": {},
     "output_type": "display_data"
    }
   ],
   "source": [
    "pd.plotting.scatter_matrix(df, alpha = .2)"
   ]
  },
  {
   "cell_type": "code",
   "execution_count": 6,
   "metadata": {
    "collapsed": false
   },
   "outputs": [
    {
     "data": {
      "text/plain": [
       "(3000, 18)"
      ]
     },
     "execution_count": 6,
     "metadata": {},
     "output_type": "execute_result"
    }
   ],
   "source": [
    "df.shape"
   ]
  },
  {
   "cell_type": "markdown",
   "metadata": {},
   "source": [
    "# Perform PCA"
   ]
  },
  {
   "cell_type": "code",
   "execution_count": 7,
   "metadata": {
    "collapsed": true
   },
   "outputs": [],
   "source": [
    "from sklearn.preprocessing import scale\n",
    "col_names = df.columns\n",
    "df = pd.DataFrame(scale(df), columns = col_names)"
   ]
  },
  {
   "cell_type": "code",
   "execution_count": 8,
   "metadata": {
    "collapsed": false
   },
   "outputs": [
    {
     "data": {
      "text/plain": [
       "PCA(copy=True, n_components=10, whiten=False)"
      ]
     },
     "execution_count": 8,
     "metadata": {},
     "output_type": "execute_result"
    }
   ],
   "source": [
    "pca = PCA(n_components=10)\n",
    "pca.fit(df)"
   ]
  },
  {
   "cell_type": "markdown",
   "metadata": {},
   "source": [
    "# Consider how many components are valuable"
   ]
  },
  {
   "cell_type": "code",
   "execution_count": 9,
   "metadata": {
    "collapsed": false
   },
   "outputs": [
    {
     "data": {
      "text/plain": [
       "array([ 0.1607032 ,  0.15885145,  0.10782797,  0.06039583,  0.05962489,\n",
       "        0.05795824,  0.05711221,  0.05602908,  0.05447766,  0.0535871 ])"
      ]
     },
     "execution_count": 9,
     "metadata": {},
     "output_type": "execute_result"
    }
   ],
   "source": [
    "pca.explained_variance_ratio_"
   ]
  },
  {
   "cell_type": "code",
   "execution_count": 10,
   "metadata": {
    "collapsed": false
   },
   "outputs": [
    {
     "data": {
      "text/plain": [
       "array([ 0.1607032 ,  0.31955465,  0.42738263,  0.48777845,  0.54740334,\n",
       "        0.60536158,  0.66247379,  0.71850287,  0.77298054,  0.82656764])"
      ]
     },
     "execution_count": 10,
     "metadata": {},
     "output_type": "execute_result"
    }
   ],
   "source": [
    "np.cumsum(pca.explained_variance_ratio_)"
   ]
  },
  {
   "cell_type": "code",
   "execution_count": 11,
   "metadata": {
    "collapsed": false
   },
   "outputs": [
    {
     "data": {
      "text/plain": [
       "[<matplotlib.lines.Line2D at 0x125d8f908>]"
      ]
     },
     "execution_count": 11,
     "metadata": {},
     "output_type": "execute_result"
    },
    {
     "data": {
      "image/png": "[encoded data removed]",
      "text/plain": [
       "<matplotlib.figure.Figure at 0x121912b70>"
      ]
     },
     "metadata": {},
     "output_type": "display_data"
    }
   ],
   "source": [
    "plt.plot(pca.explained_variance_ratio_)"
   ]
  },
  {
   "cell_type": "code",
   "execution_count": 12,
   "metadata": {
    "collapsed": false
   },
   "outputs": [],
   "source": [
    "pca = PCA(n_components=3)\n",
    "pca.fit(df)\n",
    "df_reduced = pca.transform(df)"
   ]
  },
  {
   "cell_type": "code",
   "execution_count": 13,
   "metadata": {
    "collapsed": false
   },
   "outputs": [
    {
     "data": {
      "text/plain": [
       "array([[-1.23178075, -3.49215122, -1.12300127],\n",
       "       [-1.05401461, -3.66200011, -1.55882541],\n",
       "       [-0.27325188,  2.36254956,  0.82719389],\n",
       "       ..., \n",
       "       [ 1.26115605,  3.46339207,  1.29493142],\n",
       "       [ 2.80497329,  0.16630311,  1.19670872],\n",
       "       [ 1.68347098, -1.68827638,  0.58918203]])"
      ]
     },
     "execution_count": 13,
     "metadata": {},
     "output_type": "execute_result"
    }
   ],
   "source": [
    "df_reduced"
   ]
  },
  {
   "cell_type": "code",
   "execution_count": 14,
   "metadata": {
    "collapsed": false
   },
   "outputs": [
    {
     "data": {
      "text/plain": [
       "array([[<matplotlib.axes._subplots.AxesSubplot object at 0x125da2898>,\n",
       "        <matplotlib.axes._subplots.AxesSubplot object at 0x125de0710>,\n",
       "        <matplotlib.axes._subplots.AxesSubplot object at 0x1268b1ef0>],\n",
       "       [<matplotlib.axes._subplots.AxesSubplot object at 0x1268d80f0>,\n",
       "        <matplotlib.axes._subplots.AxesSubplot object at 0x1226af6d8>,\n",
       "        <matplotlib.axes._subplots.AxesSubplot object at 0x12216c358>],\n",
       "       [<matplotlib.axes._subplots.AxesSubplot object at 0x126eac9b0>,\n",
       "        <matplotlib.axes._subplots.AxesSubplot object at 0x12703fb70>,\n",
       "        <matplotlib.axes._subplots.AxesSubplot object at 0x126eda630>]], dtype=object)"
      ]
     },
     "execution_count": 14,
     "metadata": {},
     "output_type": "execute_result"
    },
    {
     "data": {
      "image/png": "[encoded data removed]",
      "text/plain": [
       "<matplotlib.figure.Figure at 0x121fb0f60>"
      ]
     },
     "metadata": {},
     "output_type": "display_data"
    }
   ],
   "source": [
    "df_reduced = pd.DataFrame(df_reduced)\n",
    "pd.plotting.scatter_matrix(df_reduced, alpha = .2)"
   ]
  },
  {
   "cell_type": "markdown",
   "metadata": {
    "collapsed": true
   },
   "source": [
    "# Some info from PCA return"
   ]
  },
  {
   "cell_type": "code",
   "execution_count": 15,
   "metadata": {
    "collapsed": false
   },
   "outputs": [
    {
     "data": {
      "text/plain": [
       "(3, 18)"
      ]
     },
     "execution_count": 15,
     "metadata": {},
     "output_type": "execute_result"
    }
   ],
   "source": [
    "pca.components_.shape"
   ]
  },
  {
   "cell_type": "code",
   "execution_count": 16,
   "metadata": {
    "collapsed": false
   },
   "outputs": [
    {
     "data": {
      "text/plain": [
       "array([-0.02344378,  0.01568261, -0.26681514, -0.2678084 , -0.50353945,\n",
       "       -0.08880852, -0.50386818, -0.09213612,  0.01566269,  0.03748508,\n",
       "       -0.00239135, -0.00395659,  0.01896597,  0.02721848, -0.01116169,\n",
       "       -0.51270673, -0.2582771 , -0.00307298])"
      ]
     },
     "execution_count": 16,
     "metadata": {},
     "output_type": "execute_result"
    }
   ],
   "source": [
    "pca.components_[0]"
   ]
  },
  {
   "cell_type": "code",
   "execution_count": 17,
   "metadata": {
    "collapsed": false
   },
   "outputs": [
    {
     "data": {
      "text/plain": [
       "15"
      ]
     },
     "execution_count": 17,
     "metadata": {},
     "output_type": "execute_result"
    }
   ],
   "source": [
    "np.argmax(np.abs(pca.components_[0]))"
   ]
  },
  {
   "cell_type": "code",
   "execution_count": 22,
   "metadata": {
    "collapsed": false
   },
   "outputs": [
    {
     "data": {
      "text/plain": [
       "-0.51270672737526646"
      ]
     },
     "execution_count": 22,
     "metadata": {},
     "output_type": "execute_result"
    }
   ],
   "source": [
    "pca.components_[0][15]"
   ]
  },
  {
   "cell_type": "code",
   "execution_count": 23,
   "metadata": {
    "collapsed": false
   },
   "outputs": [
    {
     "data": {
      "text/plain": [
       "'rva241'"
      ]
     },
     "execution_count": 23,
     "metadata": {},
     "output_type": "execute_result"
    }
   ],
   "source": [
    "df.columns[15]"
   ]
  },
  {
   "cell_type": "code",
   "execution_count": 24,
   "metadata": {
    "collapsed": false
   },
   "outputs": [
    {
     "data": {
      "text/plain": [
       "3"
      ]
     },
     "execution_count": 24,
     "metadata": {},
     "output_type": "execute_result"
    }
   ],
   "source": [
    "np.argmax(np.abs(pca.components_[1]))"
   ]
  },
  {
   "cell_type": "code",
   "execution_count": 25,
   "metadata": {
    "collapsed": false
   },
   "outputs": [
    {
     "data": {
      "text/plain": [
       "'bwr202'"
      ]
     },
     "execution_count": 25,
     "metadata": {},
     "output_type": "execute_result"
    }
   ],
   "source": [
    "df.columns[3]"
   ]
  },
  {
   "cell_type": "code",
   "execution_count": null,
   "metadata": {
    "collapsed": true
   },
   "outputs": [],
   "source": []
  }
 ],
 "metadata": {
  "anaconda-cloud": {},
  "kernelspec": {
   "display_name": "Python [Root]",
   "language": "python",
   "name": "Python [Root]"
  },
  "language_info": {
   "codemirror_mode": {
    "name": "ipython",
    "version": 3
   },
   "file_extension": ".py",
   "mimetype": "text/x-python",
   "name": "python",
   "nbconvert_exporter": "python",
   "pygments_lexer": "ipython3",
   "version": "3.5.2"
  }
 },
 "nbformat": 4,
 "nbformat_minor": 0
}
