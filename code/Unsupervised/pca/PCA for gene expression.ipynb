{
 "cells": [
  {
   "cell_type": "code",
   "execution_count": 2,
   "metadata": {
    "collapsed": false
   },
   "outputs": [],
   "source": [
    "%matplotlib inline  \n",
    "import pandas as pd\n",
    "import numpy as np\n",
    "from sklearn.decomposition import PCA\n",
    "from matplotlib import pyplot as plt"
   ]
  },
  {
   "cell_type": "markdown",
   "metadata": {},
   "source": [
    "# Read in data"
   ]
  },
  {
   "cell_type": "code",
   "execution_count": 3,
   "metadata": {
    "collapsed": false
   },
   "outputs": [],
   "source": [
    "df = pd.read_csv('gene_expression.csv')"
   ]
  },
  {
   "cell_type": "code",
   "execution_count": 4,
   "metadata": {
    "collapsed": false
   },
   "outputs": [],
   "source": [
    "df = df.drop(df.columns[0], 1)"
   ]
  },
  {
   "cell_type": "code",
   "execution_count": 5,
   "metadata": {
    "collapsed": false
   },
   "outputs": [
    {
     "data": {
      "text/html": [
       "<div>\n",
       "<style>\n",
       "    .dataframe thead tr:only-child th {\n",
       "        text-align: right;\n",
       "    }\n",
       "\n",
       "    .dataframe thead th {\n",
       "        text-align: left;\n",
       "    }\n",
       "\n",
       "    .dataframe tbody tr th {\n",
       "        vertical-align: top;\n",
       "    }\n",
       "</style>\n",
       "<table border=\"1\" class=\"dataframe\">\n",
       "  <thead>\n",
       "    <tr style=\"text-align: right;\">\n",
       "      <th></th>\n",
       "      <th>azc81</th>\n",
       "      <th>bdb223</th>\n",
       "      <th>bsj154</th>\n",
       "      <th>bwr202</th>\n",
       "      <th>drs203</th>\n",
       "      <th>eno150</th>\n",
       "      <th>hgo132</th>\n",
       "      <th>jem139</th>\n",
       "      <th>mbd135</th>\n",
       "      <th>nby169</th>\n",
       "      <th>nfb200</th>\n",
       "      <th>npo218</th>\n",
       "      <th>ofz208</th>\n",
       "      <th>qmj73</th>\n",
       "      <th>rgm35</th>\n",
       "      <th>rva241</th>\n",
       "      <th>wdb83</th>\n",
       "      <th>yfm28</th>\n",
       "    </tr>\n",
       "  </thead>\n",
       "  <tbody>\n",
       "    <tr>\n",
       "      <th>0</th>\n",
       "      <td>0.548211</td>\n",
       "      <td>0.120231</td>\n",
       "      <td>0.055537</td>\n",
       "      <td>0.110432</td>\n",
       "      <td>0.960696</td>\n",
       "      <td>0.759469</td>\n",
       "      <td>0.874050</td>\n",
       "      <td>0.807593</td>\n",
       "      <td>0.663830</td>\n",
       "      <td>0.428409</td>\n",
       "      <td>0.912917</td>\n",
       "      <td>0.940543</td>\n",
       "      <td>0.744947</td>\n",
       "      <td>0.261574</td>\n",
       "      <td>0.783734</td>\n",
       "      <td>0.934044</td>\n",
       "      <td>0.000000</td>\n",
       "      <td>0.737642</td>\n",
       "    </tr>\n",
       "    <tr>\n",
       "      <th>1</th>\n",
       "      <td>0.111383</td>\n",
       "      <td>0.353474</td>\n",
       "      <td>0.051218</td>\n",
       "      <td>0.003683</td>\n",
       "      <td>0.939109</td>\n",
       "      <td>0.872921</td>\n",
       "      <td>0.900342</td>\n",
       "      <td>0.886981</td>\n",
       "      <td>0.680817</td>\n",
       "      <td>0.722386</td>\n",
       "      <td>0.793601</td>\n",
       "      <td>0.848213</td>\n",
       "      <td>0.779071</td>\n",
       "      <td>0.243231</td>\n",
       "      <td>0.338945</td>\n",
       "      <td>0.912718</td>\n",
       "      <td>0.000000</td>\n",
       "      <td>0.926540</td>\n",
       "    </tr>\n",
       "    <tr>\n",
       "      <th>2</th>\n",
       "      <td>0.459971</td>\n",
       "      <td>0.594186</td>\n",
       "      <td>1.000000</td>\n",
       "      <td>0.946645</td>\n",
       "      <td>0.399635</td>\n",
       "      <td>0.359502</td>\n",
       "      <td>0.342766</td>\n",
       "      <td>0.335695</td>\n",
       "      <td>0.544554</td>\n",
       "      <td>0.689002</td>\n",
       "      <td>0.364604</td>\n",
       "      <td>0.946927</td>\n",
       "      <td>0.886632</td>\n",
       "      <td>0.815887</td>\n",
       "      <td>0.555462</td>\n",
       "      <td>0.405912</td>\n",
       "      <td>0.700435</td>\n",
       "      <td>0.396066</td>\n",
       "    </tr>\n",
       "    <tr>\n",
       "      <th>3</th>\n",
       "      <td>0.099305</td>\n",
       "      <td>0.378251</td>\n",
       "      <td>0.591589</td>\n",
       "      <td>0.619087</td>\n",
       "      <td>0.901629</td>\n",
       "      <td>0.984772</td>\n",
       "      <td>0.802375</td>\n",
       "      <td>1.000000</td>\n",
       "      <td>0.270841</td>\n",
       "      <td>0.298178</td>\n",
       "      <td>0.434799</td>\n",
       "      <td>0.395561</td>\n",
       "      <td>0.077296</td>\n",
       "      <td>0.248131</td>\n",
       "      <td>0.274456</td>\n",
       "      <td>0.885201</td>\n",
       "      <td>0.476311</td>\n",
       "      <td>0.932371</td>\n",
       "    </tr>\n",
       "    <tr>\n",
       "      <th>4</th>\n",
       "      <td>0.460037</td>\n",
       "      <td>0.387290</td>\n",
       "      <td>0.829306</td>\n",
       "      <td>0.955035</td>\n",
       "      <td>0.464486</td>\n",
       "      <td>0.745253</td>\n",
       "      <td>0.637082</td>\n",
       "      <td>0.816490</td>\n",
       "      <td>0.955152</td>\n",
       "      <td>0.086996</td>\n",
       "      <td>0.751228</td>\n",
       "      <td>0.104130</td>\n",
       "      <td>0.473013</td>\n",
       "      <td>0.645816</td>\n",
       "      <td>0.123011</td>\n",
       "      <td>0.467099</td>\n",
       "      <td>1.000000</td>\n",
       "      <td>0.888156</td>\n",
       "    </tr>\n",
       "  </tbody>\n",
       "</table>\n",
       "</div>"
      ],
      "text/plain": [
       "\n",
       "      azc81    bdb223    bsj154    bwr202    drs203    eno150    hgo132  \\\n",
       "0  0.548211  0.120231  0.055537  0.110432  0.960696  0.759469  0.874050   \n",
       "1  0.111383  0.353474  0.051218  0.003683  0.939109  0.872921  0.900342   \n",
       "2  0.459971  0.594186  1.000000  0.946645  0.399635  0.359502  0.342766   \n",
       "3  0.099305  0.378251  0.591589  0.619087  0.901629  0.984772  0.802375   \n",
       "4  0.460037  0.387290  0.829306  0.955035  0.464486  0.745253  0.637082   \n",
       "\n",
       "     jem139    mbd135    nby169    nfb200    npo218    ofz208     qmj73  \\\n",
       "0  0.807593  0.663830  0.428409  0.912917  0.940543  0.744947  0.261574   \n",
       "1  0.886981  0.680817  0.722386  0.793601  0.848213  0.779071  0.243231   \n",
       "2  0.335695  0.544554  0.689002  0.364604  0.946927  0.886632  0.815887   \n",
       "3  1.000000  0.270841  0.298178  0.434799  0.395561  0.077296  0.248131   \n",
       "4  0.816490  0.955152  0.086996  0.751228  0.104130  0.473013  0.645816   \n",
       "\n",
       "      rgm35    rva241     wdb83     yfm28  \n",
       "0  0.783734  0.934044  0.000000  0.737642  \n",
       "1  0.338945  0.912718  0.000000  0.926540  \n",
       "2  0.555462  0.405912  0.700435  0.396066  \n",
       "3  0.274456  0.885201  0.476311  0.932371  \n",
       "4  0.123011  0.467099  1.000000  0.888156  "
      ]
     },
     "metadata": {},
     "output_type": "display_data"
    }
   ],
   "source": [
    "df.head()"
   ]
  },
  {
   "cell_type": "code",
   "execution_count": 12,
   "metadata": {
    "collapsed": false
   },
   "outputs": [
    {
     "data": {
      "text/plain": [
       "array([[<matplotlib.axes._subplots.AxesSubplot object at 0x1361d9898>,\n",
       "        <matplotlib.axes._subplots.AxesSubplot object at 0x13c5a38d0>,\n",
       "        <matplotlib.axes._subplots.AxesSubplot object at 0x13c5e3160>,\n",
       "        <matplotlib.axes._subplots.AxesSubplot object at 0x13655c940>,\n",
       "        <matplotlib.axes._subplots.AxesSubplot object at 0x13ca7f7b8>,\n",
       "        <matplotlib.axes._subplots.AxesSubplot object at 0x13c3839e8>,\n",
       "        <matplotlib.axes._subplots.AxesSubplot object at 0x13cb28208>,\n",
       "        <matplotlib.axes._subplots.AxesSubplot object at 0x137d5ce10>,\n",
       "        <matplotlib.axes._subplots.AxesSubplot object at 0x13ce5b9b0>,\n",
       "        <matplotlib.axes._subplots.AxesSubplot object at 0x13ce48a20>,\n",
       "        <matplotlib.axes._subplots.AxesSubplot object at 0x13ce7d630>,\n",
       "        <matplotlib.axes._subplots.AxesSubplot object at 0x13ce06668>,\n",
       "        <matplotlib.axes._subplots.AxesSubplot object at 0x13c96c470>,\n",
       "        <matplotlib.axes._subplots.AxesSubplot object at 0x13cea5e48>,\n",
       "        <matplotlib.axes._subplots.AxesSubplot object at 0x13cebd2b0>,\n",
       "        <matplotlib.axes._subplots.AxesSubplot object at 0x13cf124e0>,\n",
       "        <matplotlib.axes._subplots.AxesSubplot object at 0x13cf4c320>,\n",
       "        <matplotlib.axes._subplots.AxesSubplot object at 0x13cf7e518>,\n",
       "        <matplotlib.axes._subplots.AxesSubplot object at 0x13cfb8ef0>],\n",
       "       [<matplotlib.axes._subplots.AxesSubplot object at 0x12e3bc780>,\n",
       "        <matplotlib.axes._subplots.AxesSubplot object at 0x13ac79e80>,\n",
       "        <matplotlib.axes._subplots.AxesSubplot object at 0x13a240a58>,\n",
       "        <matplotlib.axes._subplots.AxesSubplot object at 0x135b504e0>,\n",
       "        <matplotlib.axes._subplots.AxesSubplot object at 0x1337fb438>,\n",
       "        <matplotlib.axes._subplots.AxesSubplot object at 0x13299c710>,\n",
       "        <matplotlib.axes._subplots.AxesSubplot object at 0x131835eb8>,\n",
       "        <matplotlib.axes._subplots.AxesSubplot object at 0x1309df4a8>,\n",
       "        <matplotlib.axes._subplots.AxesSubplot object at 0x12f6f70b8>,\n",
       "        <matplotlib.axes._subplots.AxesSubplot object at 0x13037c978>,\n",
       "        <matplotlib.axes._subplots.AxesSubplot object at 0x12d5ed6d8>,\n",
       "        <matplotlib.axes._subplots.AxesSubplot object at 0x12c740208>,\n",
       "        <matplotlib.axes._subplots.AxesSubplot object at 0x12b4c5048>,\n",
       "        <matplotlib.axes._subplots.AxesSubplot object at 0x13d105a20>,\n",
       "        <matplotlib.axes._subplots.AxesSubplot object at 0x13d12e2b0>,\n",
       "        <matplotlib.axes._subplots.AxesSubplot object at 0x13d1680f0>,\n",
       "        <matplotlib.axes._subplots.AxesSubplot object at 0x13d19b0f0>,\n",
       "        <matplotlib.axes._subplots.AxesSubplot object at 0x13d1deac8>,\n",
       "        <matplotlib.axes._subplots.AxesSubplot object at 0x13d1f46d8>],\n",
       "       [<matplotlib.axes._subplots.AxesSubplot object at 0x13d35f160>,\n",
       "        <matplotlib.axes._subplots.AxesSubplot object at 0x13d3a7b38>,\n",
       "        <matplotlib.axes._subplots.AxesSubplot object at 0x13d3e8748>,\n",
       "        <matplotlib.axes._subplots.AxesSubplot object at 0x13d532b70>,\n",
       "        <matplotlib.axes._subplots.AxesSubplot object at 0x13d56f358>,\n",
       "        <matplotlib.axes._subplots.AxesSubplot object at 0x13d5b7f28>,\n",
       "        <matplotlib.axes._subplots.AxesSubplot object at 0x13d58b0b8>,\n",
       "        <matplotlib.axes._subplots.AxesSubplot object at 0x13d641a90>,\n",
       "        <matplotlib.axes._subplots.AxesSubplot object at 0x13d68b9e8>,\n",
       "        <matplotlib.axes._subplots.AxesSubplot object at 0x13d6cda90>,\n",
       "        <matplotlib.axes._subplots.AxesSubplot object at 0x13d91d3c8>,\n",
       "        <matplotlib.axes._subplots.AxesSubplot object at 0x13d954c18>,\n",
       "        <matplotlib.axes._subplots.AxesSubplot object at 0x13d99da58>,\n",
       "        <matplotlib.axes._subplots.AxesSubplot object at 0x13d9dda58>,\n",
       "        <matplotlib.axes._subplots.AxesSubplot object at 0x13da2c470>,\n",
       "        <matplotlib.axes._subplots.AxesSubplot object at 0x13da44f98>,\n",
       "        <matplotlib.axes._subplots.AxesSubplot object at 0x13dab0ac8>,\n",
       "        <matplotlib.axes._subplots.AxesSubplot object at 0x13dc004e0>,\n",
       "        <matplotlib.axes._subplots.AxesSubplot object at 0x13dc420f0>],\n",
       "       [<matplotlib.axes._subplots.AxesSubplot object at 0x13dc8b518>,\n",
       "        <matplotlib.axes._subplots.AxesSubplot object at 0x13dcc1cc0>,\n",
       "        <matplotlib.axes._subplots.AxesSubplot object at 0x13de108d0>,\n",
       "        <matplotlib.axes._subplots.AxesSubplot object at 0x13dcdfb00>,\n",
       "        <matplotlib.axes._subplots.AxesSubplot object at 0x13de9a438>,\n",
       "        <matplotlib.axes._subplots.AxesSubplot object at 0x13dee4390>,\n",
       "        <matplotlib.axes._subplots.AxesSubplot object at 0x13df24438>,\n",
       "        <matplotlib.axes._subplots.AxesSubplot object at 0x13df6dd30>,\n",
       "        <matplotlib.axes._subplots.AxesSubplot object at 0x13dfab5c0>,\n",
       "        <matplotlib.axes._subplots.AxesSubplot object at 0x13dff4400>,\n",
       "        <matplotlib.axes._subplots.AxesSubplot object at 0x13e136400>,\n",
       "        <matplotlib.axes._subplots.AxesSubplot object at 0x13e17edd8>,\n",
       "        <matplotlib.axes._subplots.AxesSubplot object at 0x13e196a58>,\n",
       "        <matplotlib.axes._subplots.AxesSubplot object at 0x13e208470>,\n",
       "        <matplotlib.axes._subplots.AxesSubplot object at 0x13e251e48>,\n",
       "        <matplotlib.axes._subplots.AxesSubplot object at 0x13e292a58>,\n",
       "        <matplotlib.axes._subplots.AxesSubplot object at 0x13e2dce80>,\n",
       "        <matplotlib.axes._subplots.AxesSubplot object at 0x13e418668>,\n",
       "        <matplotlib.axes._subplots.AxesSubplot object at 0x13e466278>],\n",
       "       [<matplotlib.axes._subplots.AxesSubplot object at 0x13e4363c8>,\n",
       "        <matplotlib.axes._subplots.AxesSubplot object at 0x13e4ebda0>,\n",
       "        <matplotlib.axes._subplots.AxesSubplot object at 0x13e534cf8>,\n",
       "        <matplotlib.axes._subplots.AxesSubplot object at 0x13e576da0>,\n",
       "        <matplotlib.axes._subplots.AxesSubplot object at 0x13e5c56d8>,\n",
       "        <matplotlib.axes._subplots.AxesSubplot object at 0x13e5fcf28>,\n",
       "        <matplotlib.axes._subplots.AxesSubplot object at 0x13e744d68>,\n",
       "        <matplotlib.axes._subplots.AxesSubplot object at 0x13e786d68>,\n",
       "        <matplotlib.axes._subplots.AxesSubplot object at 0x13e7d5780>,\n",
       "        <matplotlib.axes._subplots.AxesSubplot object at 0x13e7ee898>,\n",
       "        <matplotlib.axes._subplots.AxesSubplot object at 0x13e959dd8>,\n",
       "        <matplotlib.axes._subplots.AxesSubplot object at 0x13e9a87f0>,\n",
       "        <matplotlib.axes._subplots.AxesSubplot object at 0x13e9e9400>,\n",
       "        <matplotlib.axes._subplots.AxesSubplot object at 0x13ea33828>,\n",
       "        <matplotlib.axes._subplots.AxesSubplot object at 0x13ea6afd0>,\n",
       "        <matplotlib.axes._subplots.AxesSubplot object at 0x13eab9be0>,\n",
       "        <matplotlib.axes._subplots.AxesSubplot object at 0x13ea87940>,\n",
       "        <matplotlib.axes._subplots.AxesSubplot object at 0x13eb41748>,\n",
       "        <matplotlib.axes._subplots.AxesSubplot object at 0x13eb8c6a0>],\n",
       "       [<matplotlib.axes._subplots.AxesSubplot object at 0x13ebcd748>,\n",
       "        <matplotlib.axes._subplots.AxesSubplot object at 0x13ee1b080>,\n",
       "        <matplotlib.axes._subplots.AxesSubplot object at 0x13ee528d0>,\n",
       "        <matplotlib.axes._subplots.AxesSubplot object at 0x13ee9b710>,\n",
       "        <matplotlib.axes._subplots.AxesSubplot object at 0x13eede710>,\n",
       "        <matplotlib.axes._subplots.AxesSubplot object at 0x13ef2c128>,\n",
       "        <matplotlib.axes._subplots.AxesSubplot object at 0x13ef440f0>,\n",
       "        <matplotlib.axes._subplots.AxesSubplot object at 0x13efb1780>,\n",
       "        <matplotlib.axes._subplots.AxesSubplot object at 0x13f101198>,\n",
       "        <matplotlib.axes._subplots.AxesSubplot object at 0x13f13bd68>,\n",
       "        <matplotlib.axes._subplots.AxesSubplot object at 0x13f18c1d0>,\n",
       "        <matplotlib.axes._subplots.AxesSubplot object at 0x13f1c1978>,\n",
       "        <matplotlib.axes._subplots.AxesSubplot object at 0x13f211588>,\n",
       "        <matplotlib.axes._subplots.AxesSubplot object at 0x13f1e07b8>,\n",
       "        <matplotlib.axes._subplots.AxesSubplot object at 0x13f29b0f0>,\n",
       "        <matplotlib.axes._subplots.AxesSubplot object at 0x13f2e5048>,\n",
       "        <matplotlib.axes._subplots.AxesSubplot object at 0x13f4250f0>,\n",
       "        <matplotlib.axes._subplots.AxesSubplot object at 0x13f46f9e8>,\n",
       "        <matplotlib.axes._subplots.AxesSubplot object at 0x13f4ac278>],\n",
       "       [<matplotlib.axes._subplots.AxesSubplot object at 0x13f4f60b8>,\n",
       "        <matplotlib.axes._subplots.AxesSubplot object at 0x13f5350b8>,\n",
       "        <matplotlib.axes._subplots.AxesSubplot object at 0x13f57da90>,\n",
       "        <matplotlib.axes._subplots.AxesSubplot object at 0x13f5976a0>,\n",
       "        <matplotlib.axes._subplots.AxesSubplot object at 0x13f709128>,\n",
       "        <matplotlib.axes._subplots.AxesSubplot object at 0x13f753b00>,\n",
       "        <matplotlib.axes._subplots.AxesSubplot object at 0x13f792710>,\n",
       "        <matplotlib.axes._subplots.AxesSubplot object at 0x13f7ddb38>,\n",
       "        <matplotlib.axes._subplots.AxesSubplot object at 0x13f919320>,\n",
       "        <matplotlib.axes._subplots.AxesSubplot object at 0x13f960ef0>,\n",
       "        <matplotlib.axes._subplots.AxesSubplot object at 0x13f935080>,\n",
       "        <matplotlib.axes._subplots.AxesSubplot object at 0x13f9eca58>,\n",
       "        <matplotlib.axes._subplots.AxesSubplot object at 0x13fa379b0>,\n",
       "        <matplotlib.axes._subplots.AxesSubplot object at 0x13fa75a58>,\n",
       "        <matplotlib.axes._subplots.AxesSubplot object at 0x13fac5390>,\n",
       "        <matplotlib.axes._subplots.AxesSubplot object at 0x13fafbbe0>,\n",
       "        <matplotlib.axes._subplots.AxesSubplot object at 0x13fc47a20>,\n",
       "        <matplotlib.axes._subplots.AxesSubplot object at 0x13fc86a20>,\n",
       "        <matplotlib.axes._subplots.AxesSubplot object at 0x13fcd4438>],\n",
       "       [<matplotlib.axes._subplots.AxesSubplot object at 0x13fced400>,\n",
       "        <matplotlib.axes._subplots.AxesSubplot object at 0x13fe5ba90>,\n",
       "        <matplotlib.axes._subplots.AxesSubplot object at 0x13fea74a8>,\n",
       "        <matplotlib.axes._subplots.AxesSubplot object at 0x13feea0b8>,\n",
       "        <matplotlib.axes._subplots.AxesSubplot object at 0x1408344e0>,\n",
       "        <matplotlib.axes._subplots.AxesSubplot object at 0x14086ac88>,\n",
       "        <matplotlib.axes._subplots.AxesSubplot object at 0x1408b8898>,\n",
       "        <matplotlib.axes._subplots.AxesSubplot object at 0x140887ac8>,\n",
       "        <matplotlib.axes._subplots.AxesSubplot object at 0x140944400>,\n",
       "        <matplotlib.axes._subplots.AxesSubplot object at 0x14098d358>,\n",
       "        <matplotlib.axes._subplots.AxesSubplot object at 0x1409cd400>,\n",
       "        <matplotlib.axes._subplots.AxesSubplot object at 0x140a15cf8>,\n",
       "        <matplotlib.axes._subplots.AxesSubplot object at 0x140a53588>,\n",
       "        <matplotlib.axes._subplots.AxesSubplot object at 0x140a9c3c8>,\n",
       "        <matplotlib.axes._subplots.AxesSubplot object at 0x140ade3c8>,\n",
       "        <matplotlib.axes._subplots.AxesSubplot object at 0x140d26da0>,\n",
       "        <matplotlib.axes._subplots.AxesSubplot object at 0x140d3f4e0>,\n",
       "        <matplotlib.axes._subplots.AxesSubplot object at 0x140db2438>,\n",
       "        <matplotlib.axes._subplots.AxesSubplot object at 0x140dfae10>],\n",
       "       [<matplotlib.axes._subplots.AxesSubplot object at 0x140e39a20>,\n",
       "        <matplotlib.axes._subplots.AxesSubplot object at 0x140e84e48>,\n",
       "        <matplotlib.axes._subplots.AxesSubplot object at 0x140ec2630>,\n",
       "        <matplotlib.axes._subplots.AxesSubplot object at 0x140f10240>,\n",
       "        <matplotlib.axes._subplots.AxesSubplot object at 0x140ede390>,\n",
       "        <matplotlib.axes._subplots.AxesSubplot object at 0x140f94d68>,\n",
       "        <matplotlib.axes._subplots.AxesSubplot object at 0x140fdecc0>,\n",
       "        <matplotlib.axes._subplots.AxesSubplot object at 0x141020d68>,\n",
       "        <matplotlib.axes._subplots.AxesSubplot object at 0x14106f6a0>,\n",
       "        <matplotlib.axes._subplots.AxesSubplot object at 0x1410a6ef0>,\n",
       "        <matplotlib.axes._subplots.AxesSubplot object at 0x1410efd30>,\n",
       "        <matplotlib.axes._subplots.AxesSubplot object at 0x14132ed30>,\n",
       "        <matplotlib.axes._subplots.AxesSubplot object at 0x14137d748>,\n",
       "        <matplotlib.axes._subplots.AxesSubplot object at 0x141398860>,\n",
       "        <matplotlib.axes._subplots.AxesSubplot object at 0x141402da0>,\n",
       "        <matplotlib.axes._subplots.AxesSubplot object at 0x1414527b8>,\n",
       "        <matplotlib.axes._subplots.AxesSubplot object at 0x1414943c8>,\n",
       "        <matplotlib.axes._subplots.AxesSubplot object at 0x1414dc7f0>,\n",
       "        <matplotlib.axes._subplots.AxesSubplot object at 0x141514f98>],\n",
       "       [<matplotlib.axes._subplots.AxesSubplot object at 0x141562ba8>,\n",
       "        <matplotlib.axes._subplots.AxesSubplot object at 0x141528be0>,\n",
       "        <matplotlib.axes._subplots.AxesSubplot object at 0x1415eb710>,\n",
       "        <matplotlib.axes._subplots.AxesSubplot object at 0x141837668>,\n",
       "        <matplotlib.axes._subplots.AxesSubplot object at 0x141875710>,\n",
       "        <matplotlib.axes._subplots.AxesSubplot object at 0x1418c7048>,\n",
       "        <matplotlib.axes._subplots.AxesSubplot object at 0x1418fb898>,\n",
       "        <matplotlib.axes._subplots.AxesSubplot object at 0x1419456d8>,\n",
       "        <matplotlib.axes._subplots.AxesSubplot object at 0x1419876d8>,\n",
       "        <matplotlib.axes._subplots.AxesSubplot object at 0x1419d70f0>,\n",
       "        <matplotlib.axes._subplots.AxesSubplot object at 0x1419ed0b8>,\n",
       "        <matplotlib.axes._subplots.AxesSubplot object at 0x141c5b748>,\n",
       "        <matplotlib.axes._subplots.AxesSubplot object at 0x141cab160>,\n",
       "        <matplotlib.axes._subplots.AxesSubplot object at 0x141ce4d30>,\n",
       "        <matplotlib.axes._subplots.AxesSubplot object at 0x141d34198>,\n",
       "        <matplotlib.axes._subplots.AxesSubplot object at 0x141d6a940>,\n",
       "        <matplotlib.axes._subplots.AxesSubplot object at 0x141db8550>,\n",
       "        <matplotlib.axes._subplots.AxesSubplot object at 0x141d86780>,\n",
       "        <matplotlib.axes._subplots.AxesSubplot object at 0x141f830b8>],\n",
       "       [<matplotlib.axes._subplots.AxesSubplot object at 0x141fc7fd0>,\n",
       "        <matplotlib.axes._subplots.AxesSubplot object at 0x14200e0b8>,\n",
       "        <matplotlib.axes._subplots.AxesSubplot object at 0x1420579b0>,\n",
       "        <matplotlib.axes._subplots.AxesSubplot object at 0x142313240>,\n",
       "        <matplotlib.axes._subplots.AxesSubplot object at 0x14235e080>,\n",
       "        <matplotlib.axes._subplots.AxesSubplot object at 0x1423a0080>,\n",
       "        <matplotlib.axes._subplots.AxesSubplot object at 0x1423e7a58>,\n",
       "        <matplotlib.axes._subplots.AxesSubplot object at 0x1423ffb70>,\n",
       "        <matplotlib.axes._subplots.AxesSubplot object at 0x1424720f0>,\n",
       "        <matplotlib.axes._subplots.AxesSubplot object at 0x1424bbac8>,\n",
       "        <matplotlib.axes._subplots.AxesSubplot object at 0x1424fb6d8>,\n",
       "        <matplotlib.axes._subplots.AxesSubplot object at 0x142545b00>,\n",
       "        <matplotlib.axes._subplots.AxesSubplot object at 0x1425812e8>,\n",
       "        <matplotlib.axes._subplots.AxesSubplot object at 0x1425caeb8>,\n",
       "        <matplotlib.axes._subplots.AxesSubplot object at 0x1425819e8>,\n",
       "        <matplotlib.axes._subplots.AxesSubplot object at 0x142656a20>,\n",
       "        <matplotlib.axes._subplots.AxesSubplot object at 0x14269f978>,\n",
       "        <matplotlib.axes._subplots.AxesSubplot object at 0x1426dfa20>,\n",
       "        <matplotlib.axes._subplots.AxesSubplot object at 0x14282e358>],\n",
       "       [<matplotlib.axes._subplots.AxesSubplot object at 0x142865ba8>,\n",
       "        <matplotlib.axes._subplots.AxesSubplot object at 0x1428ad9e8>,\n",
       "        <matplotlib.axes._subplots.AxesSubplot object at 0x1428f09e8>,\n",
       "        <matplotlib.axes._subplots.AxesSubplot object at 0x14293d400>,\n",
       "        <matplotlib.axes._subplots.AxesSubplot object at 0x1429573c8>,\n",
       "        <matplotlib.axes._subplots.AxesSubplot object at 0x1429c2a58>,\n",
       "        <matplotlib.axes._subplots.AxesSubplot object at 0x142b13470>,\n",
       "        <matplotlib.axes._subplots.AxesSubplot object at 0x142b54080>,\n",
       "        <matplotlib.axes._subplots.AxesSubplot object at 0x142b9e4a8>,\n",
       "        <matplotlib.axes._subplots.AxesSubplot object at 0x142bd4c50>,\n",
       "        <matplotlib.axes._subplots.AxesSubplot object at 0x142c22860>,\n",
       "        <matplotlib.axes._subplots.AxesSubplot object at 0x142bf2a90>,\n",
       "        <matplotlib.axes._subplots.AxesSubplot object at 0x142cad3c8>,\n",
       "        <matplotlib.axes._subplots.AxesSubplot object at 0x142cf7320>,\n",
       "        <matplotlib.axes._subplots.AxesSubplot object at 0x142e373c8>,\n",
       "        <matplotlib.axes._subplots.AxesSubplot object at 0x142e81cc0>,\n",
       "        <matplotlib.axes._subplots.AxesSubplot object at 0x142ebd550>,\n",
       "        <matplotlib.axes._subplots.AxesSubplot object at 0x142f07390>,\n",
       "        <matplotlib.axes._subplots.AxesSubplot object at 0x142f47390>],\n",
       "       [<matplotlib.axes._subplots.AxesSubplot object at 0x142f91d68>,\n",
       "        <matplotlib.axes._subplots.AxesSubplot object at 0x142fa94a8>,\n",
       "        <matplotlib.axes._subplots.AxesSubplot object at 0x14311a400>,\n",
       "        <matplotlib.axes._subplots.AxesSubplot object at 0x143164dd8>,\n",
       "        <matplotlib.axes._subplots.AxesSubplot object at 0x1431a49e8>,\n",
       "        <matplotlib.axes._subplots.AxesSubplot object at 0x1431ede10>,\n",
       "        <matplotlib.axes._subplots.AxesSubplot object at 0x14322b5f8>,\n",
       "        <matplotlib.axes._subplots.AxesSubplot object at 0x143279208>,\n",
       "        <matplotlib.axes._subplots.AxesSubplot object at 0x143247358>,\n",
       "        <matplotlib.axes._subplots.AxesSubplot object at 0x1432fcd30>,\n",
       "        <matplotlib.axes._subplots.AxesSubplot object at 0x143447c88>,\n",
       "        <matplotlib.axes._subplots.AxesSubplot object at 0x143488d30>,\n",
       "        <matplotlib.axes._subplots.AxesSubplot object at 0x1434d8668>,\n",
       "        <matplotlib.axes._subplots.AxesSubplot object at 0x14380eeb8>,\n",
       "        <matplotlib.axes._subplots.AxesSubplot object at 0x143858cf8>,\n",
       "        <matplotlib.axes._subplots.AxesSubplot object at 0x143897cf8>,\n",
       "        <matplotlib.axes._subplots.AxesSubplot object at 0x1438e5710>,\n",
       "        <matplotlib.axes._subplots.AxesSubplot object at 0x1438fe828>,\n",
       "        <matplotlib.axes._subplots.AxesSubplot object at 0x14396bd68>],\n",
       "       [<matplotlib.axes._subplots.AxesSubplot object at 0x1439ba780>,\n",
       "        <matplotlib.axes._subplots.AxesSubplot object at 0x1439fa390>,\n",
       "        <matplotlib.axes._subplots.AxesSubplot object at 0x143a457b8>,\n",
       "        <matplotlib.axes._subplots.AxesSubplot object at 0x142e9a0f0>,\n",
       "        <matplotlib.axes._subplots.AxesSubplot object at 0x13df7dcf8>,\n",
       "        <matplotlib.axes._subplots.AxesSubplot object at 0x143a70780>,\n",
       "        <matplotlib.axes._subplots.AxesSubplot object at 0x143aeb898>,\n",
       "        <matplotlib.axes._subplots.AxesSubplot object at 0x143d3b2b0>,\n",
       "        <matplotlib.axes._subplots.AxesSubplot object at 0x143d74e80>,\n",
       "        <matplotlib.axes._subplots.AxesSubplot object at 0x143dc32e8>,\n",
       "        <matplotlib.axes._subplots.AxesSubplot object at 0x143dfba90>,\n",
       "        <matplotlib.axes._subplots.AxesSubplot object at 0x143e496a0>,\n",
       "        <matplotlib.axes._subplots.AxesSubplot object at 0x143e188d0>,\n",
       "        <matplotlib.axes._subplots.AxesSubplot object at 0x143ed4208>,\n",
       "        <matplotlib.axes._subplots.AxesSubplot object at 0x143f1c160>,\n",
       "        <matplotlib.axes._subplots.AxesSubplot object at 0x143f5d208>,\n",
       "        <matplotlib.axes._subplots.AxesSubplot object at 0x143fa8b00>,\n",
       "        <matplotlib.axes._subplots.AxesSubplot object at 0x143fe4390>,\n",
       "        <matplotlib.axes._subplots.AxesSubplot object at 0x14402d1d0>],\n",
       "       [<matplotlib.axes._subplots.AxesSubplot object at 0x14406f1d0>,\n",
       "        <matplotlib.axes._subplots.AxesSubplot object at 0x1440b5ba8>,\n",
       "        <matplotlib.axes._subplots.AxesSubplot object at 0x1440cfcc0>,\n",
       "        <matplotlib.axes._subplots.AxesSubplot object at 0x144342240>,\n",
       "        <matplotlib.axes._subplots.AxesSubplot object at 0x14438bc18>,\n",
       "        <matplotlib.axes._subplots.AxesSubplot object at 0x1443cc828>,\n",
       "        <matplotlib.axes._subplots.AxesSubplot object at 0x144418c50>,\n",
       "        <matplotlib.axes._subplots.AxesSubplot object at 0x144451438>,\n",
       "        <matplotlib.axes._subplots.AxesSubplot object at 0x1444a1048>,\n",
       "        <matplotlib.axes._subplots.AxesSubplot object at 0x144471198>,\n",
       "        <matplotlib.axes._subplots.AxesSubplot object at 0x144526b70>,\n",
       "        <matplotlib.axes._subplots.AxesSubplot object at 0x14456fac8>,\n",
       "        <matplotlib.axes._subplots.AxesSubplot object at 0x1445b0b70>,\n",
       "        <matplotlib.axes._subplots.AxesSubplot object at 0x1445ff4a8>,\n",
       "        <matplotlib.axes._subplots.AxesSubplot object at 0x144736cf8>,\n",
       "        <matplotlib.axes._subplots.AxesSubplot object at 0x14477fb38>,\n",
       "        <matplotlib.axes._subplots.AxesSubplot object at 0x1447c1b38>,\n",
       "        <matplotlib.axes._subplots.AxesSubplot object at 0x144910550>,\n",
       "        <matplotlib.axes._subplots.AxesSubplot object at 0x144928d68>],\n",
       "       [<matplotlib.axes._subplots.AxesSubplot object at 0x144992ba8>,\n",
       "        <matplotlib.axes._subplots.AxesSubplot object at 0x1449e35c0>,\n",
       "        <matplotlib.axes._subplots.AxesSubplot object at 0x144a251d0>,\n",
       "        <matplotlib.axes._subplots.AxesSubplot object at 0x144a6e5f8>,\n",
       "        <matplotlib.axes._subplots.AxesSubplot object at 0x144aa3da0>,\n",
       "        <matplotlib.axes._subplots.AxesSubplot object at 0x144af39b0>,\n",
       "        <matplotlib.axes._subplots.AxesSubplot object at 0x144aba898>,\n",
       "        <matplotlib.axes._subplots.AxesSubplot object at 0x144c7d518>,\n",
       "        <matplotlib.axes._subplots.AxesSubplot object at 0x144cc8470>,\n",
       "        <matplotlib.axes._subplots.AxesSubplot object at 0x144d08518>,\n",
       "        <matplotlib.axes._subplots.AxesSubplot object at 0x144d50e10>,\n",
       "        <matplotlib.axes._subplots.AxesSubplot object at 0x144d8c6a0>,\n",
       "        <matplotlib.axes._subplots.AxesSubplot object at 0x144dd84e0>,\n",
       "        <matplotlib.axes._subplots.AxesSubplot object at 0x144e184e0>,\n",
       "        <matplotlib.axes._subplots.AxesSubplot object at 0x144e61eb8>,\n",
       "        <matplotlib.axes._subplots.AxesSubplot object at 0x144e7eb00>,\n",
       "        <matplotlib.axes._subplots.AxesSubplot object at 0x144eec550>,\n",
       "        <matplotlib.axes._subplots.AxesSubplot object at 0x145035f28>,\n",
       "        <matplotlib.axes._subplots.AxesSubplot object at 0x145075b38>],\n",
       "       [<matplotlib.axes._subplots.AxesSubplot object at 0x1450bff60>,\n",
       "        <matplotlib.axes._subplots.AxesSubplot object at 0x1450fc748>,\n",
       "        <matplotlib.axes._subplots.AxesSubplot object at 0x14524b358>,\n",
       "        <matplotlib.axes._subplots.AxesSubplot object at 0x1452184a8>,\n",
       "        <matplotlib.axes._subplots.AxesSubplot object at 0x1452cee80>,\n",
       "        <matplotlib.axes._subplots.AxesSubplot object at 0x14541bdd8>,\n",
       "        <matplotlib.axes._subplots.AxesSubplot object at 0x145459e80>,\n",
       "        <matplotlib.axes._subplots.AxesSubplot object at 0x1454a97b8>,\n",
       "        <matplotlib.axes._subplots.AxesSubplot object at 0x1454e7048>,\n",
       "        <matplotlib.axes._subplots.AxesSubplot object at 0x145528e48>,\n",
       "        <matplotlib.axes._subplots.AxesSubplot object at 0x145568e48>,\n",
       "        <matplotlib.axes._subplots.AxesSubplot object at 0x1455b8860>,\n",
       "        <matplotlib.axes._subplots.AxesSubplot object at 0x1455d14a8>,\n",
       "        <matplotlib.axes._subplots.AxesSubplot object at 0x14583deb8>,\n",
       "        <matplotlib.axes._subplots.AxesSubplot object at 0x14588d8d0>,\n",
       "        <matplotlib.axes._subplots.AxesSubplot object at 0x1458cd4e0>,\n",
       "        <matplotlib.axes._subplots.AxesSubplot object at 0x145917908>,\n",
       "        <matplotlib.axes._subplots.AxesSubplot object at 0x1459550f0>,\n",
       "        <matplotlib.axes._subplots.AxesSubplot object at 0x14599bcc0>],\n",
       "       [<matplotlib.axes._subplots.AxesSubplot object at 0x14596a438>,\n",
       "        <matplotlib.axes._subplots.AxesSubplot object at 0x145b26828>,\n",
       "        <matplotlib.axes._subplots.AxesSubplot object at 0x145b71780>,\n",
       "        <matplotlib.axes._subplots.AxesSubplot object at 0x145baf828>,\n",
       "        <matplotlib.axes._subplots.AxesSubplot object at 0x145c01160>,\n",
       "        <matplotlib.axes._subplots.AxesSubplot object at 0x145c389b0>,\n",
       "        <matplotlib.axes._subplots.AxesSubplot object at 0x145c807f0>,\n",
       "        <matplotlib.axes._subplots.AxesSubplot object at 0x145cc27f0>,\n",
       "        <matplotlib.axes._subplots.AxesSubplot object at 0x145e12208>,\n",
       "        <matplotlib.axes._subplots.AxesSubplot object at 0x145e28128>,\n",
       "        <matplotlib.axes._subplots.AxesSubplot object at 0x145e97860>,\n",
       "        <matplotlib.axes._subplots.AxesSubplot object at 0x145ee5278>,\n",
       "        <matplotlib.axes._subplots.AxesSubplot object at 0x145f1ee48>,\n",
       "        <matplotlib.axes._subplots.AxesSubplot object at 0x145f6f2b0>,\n",
       "        <matplotlib.axes._subplots.AxesSubplot object at 0x145fa6a58>,\n",
       "        <matplotlib.axes._subplots.AxesSubplot object at 0x145ff3668>,\n",
       "        <matplotlib.axes._subplots.AxesSubplot object at 0x145fc1898>,\n",
       "        <matplotlib.axes._subplots.AxesSubplot object at 0x14607f1d0>,\n",
       "        <matplotlib.axes._subplots.AxesSubplot object at 0x1460c8128>],\n",
       "       [<matplotlib.axes._subplots.AxesSubplot object at 0x1463081d0>,\n",
       "        <matplotlib.axes._subplots.AxesSubplot object at 0x146352ac8>,\n",
       "        <matplotlib.axes._subplots.AxesSubplot object at 0x14638d358>,\n",
       "        <matplotlib.axes._subplots.AxesSubplot object at 0x1463d9198>,\n",
       "        <matplotlib.axes._subplots.AxesSubplot object at 0x14641a198>,\n",
       "        <matplotlib.axes._subplots.AxesSubplot object at 0x146461b70>,\n",
       "        <matplotlib.axes._subplots.AxesSubplot object at 0x14647cc88>,\n",
       "        <matplotlib.axes._subplots.AxesSubplot object at 0x1464ed208>,\n",
       "        <matplotlib.axes._subplots.AxesSubplot object at 0x146635be0>,\n",
       "        <matplotlib.axes._subplots.AxesSubplot object at 0x1466767f0>,\n",
       "        <matplotlib.axes._subplots.AxesSubplot object at 0x1466c0c18>,\n",
       "        <matplotlib.axes._subplots.AxesSubplot object at 0x1466fe400>,\n",
       "        <matplotlib.axes._subplots.AxesSubplot object at 0x146844fd0>,\n",
       "        <matplotlib.axes._subplots.AxesSubplot object at 0x146819160>,\n",
       "        <matplotlib.axes._subplots.AxesSubplot object at 0x1468d0b38>,\n",
       "        <matplotlib.axes._subplots.AxesSubplot object at 0x146a1ca90>,\n",
       "        <matplotlib.axes._subplots.AxesSubplot object at 0x146a5bb38>,\n",
       "        <matplotlib.axes._subplots.AxesSubplot object at 0x146aab470>,\n",
       "        <matplotlib.axes._subplots.AxesSubplot object at 0x146ae1cc0>]], dtype=object)"
      ]
     },
     "execution_count": 12,
     "metadata": {},
     "output_type": "execute_result"
    },
    {
     "data": {
      "image/png": "[encoded data removed]",
      "text/plain": [
       "<matplotlib.figure.Figure at 0x1145d7470>"
      ]
     },
     "metadata": {},
     "output_type": "display_data"
    }
   ],
   "source": [
    "pd.plotting.scatter_matrix(df, alpha = .2)"
   ]
  },
  {
   "cell_type": "code",
   "execution_count": 6,
   "metadata": {
    "collapsed": false
   },
   "outputs": [
    {
     "data": {
      "text/plain": [
       "(3000, 18)"
      ]
     },
     "execution_count": 6,
     "metadata": {},
     "output_type": "execute_result"
    }
   ],
   "source": [
    "df.shape"
   ]
  },
  {
   "cell_type": "markdown",
   "metadata": {},
   "source": [
    "# Perform PCA"
   ]
  },
  {
   "cell_type": "code",
   "execution_count": 11,
   "metadata": {
    "collapsed": false
   },
   "outputs": [
    {
     "data": {
      "text/plain": [
       "PCA(copy=True, n_components=10, whiten=False)"
      ]
     },
     "execution_count": 11,
     "metadata": {},
     "output_type": "execute_result"
    }
   ],
   "source": [
    "pca = PCA(n_components=10)\n",
    "pca.fit(df)"
   ]
  },
  {
   "cell_type": "markdown",
   "metadata": {},
   "source": [
    "# Consider how many components are valuable"
   ]
  },
  {
   "cell_type": "code",
   "execution_count": 17,
   "metadata": {
    "collapsed": false
   },
   "outputs": [
    {
     "data": {
      "text/plain": [
       "array([ 0.16429194,  0.16212491,  0.10932196,  0.05986414,  0.05837421,\n",
       "        0.0571921 ,  0.05615894,  0.05561349,  0.05334676,  0.05253835])"
      ]
     },
     "execution_count": 17,
     "metadata": {},
     "output_type": "execute_result"
    }
   ],
   "source": [
    "pca.explained_variance_ratio_"
   ]
  },
  {
   "cell_type": "code",
   "execution_count": 18,
   "metadata": {
    "collapsed": false
   },
   "outputs": [
    {
     "data": {
      "text/plain": [
       "array([ 0.16429194,  0.32641685,  0.43573881,  0.49560295,  0.55397716,\n",
       "        0.61116926,  0.66732819,  0.72294168,  0.77628844,  0.82882679])"
      ]
     },
     "execution_count": 18,
     "metadata": {},
     "output_type": "execute_result"
    }
   ],
   "source": [
    "np.cumsum(pca.explained_variance_ratio_)"
   ]
  },
  {
   "cell_type": "code",
   "execution_count": 28,
   "metadata": {
    "collapsed": false
   },
   "outputs": [
    {
     "data": {
      "text/plain": [
       "[<matplotlib.lines.Line2D at 0x11a0cd198>]"
      ]
     },
     "execution_count": 28,
     "metadata": {},
     "output_type": "execute_result"
    },
    {
     "data": {
      "image/png": "[encoded data removed]",
      "text/plain": [
       "<matplotlib.figure.Figure at 0x11a02ce80>"
      ]
     },
     "metadata": {},
     "output_type": "display_data"
    }
   ],
   "source": [
    "plt.plot(pca.explained_variance_ratio_)"
   ]
  },
  {
   "cell_type": "code",
   "execution_count": 23,
   "metadata": {
    "collapsed": false
   },
   "outputs": [],
   "source": [
    "pca = PCA(n_components=3)\n",
    "pca.fit(df)\n",
    "df_reduced = pca.transform(df)"
   ]
  },
  {
   "cell_type": "code",
   "execution_count": 24,
   "metadata": {
    "collapsed": false
   },
   "outputs": [
    {
     "data": {
      "text/plain": [
       "array([[-0.45527962, -0.99380172, -0.33448512],\n",
       "       [-0.41011749, -1.04624331, -0.46277614],\n",
       "       [-0.01724507,  0.69975824,  0.23988205],\n",
       "       ..., \n",
       "       [ 0.46236777,  0.98090464,  0.38245838],\n",
       "       [ 0.83008957, -0.02415081,  0.34593279],\n",
       "       [ 0.44865935, -0.54350938,  0.17678389]])"
      ]
     },
     "execution_count": 24,
     "metadata": {},
     "output_type": "execute_result"
    }
   ],
   "source": [
    "df_reduced"
   ]
  },
  {
   "cell_type": "code",
   "execution_count": 25,
   "metadata": {
    "collapsed": false
   },
   "outputs": [
    {
     "data": {
      "text/plain": [
       "array([[<matplotlib.axes._subplots.AxesSubplot object at 0x11975bac8>,\n",
       "        <matplotlib.axes._subplots.AxesSubplot object at 0x119a52940>,\n",
       "        <matplotlib.axes._subplots.AxesSubplot object at 0x1199f8358>],\n",
       "       [<matplotlib.axes._subplots.AxesSubplot object at 0x11990af98>,\n",
       "        <matplotlib.axes._subplots.AxesSubplot object at 0x119acbfd0>,\n",
       "        <matplotlib.axes._subplots.AxesSubplot object at 0x119b117b8>],\n",
       "       [<matplotlib.axes._subplots.AxesSubplot object at 0x119b5beb8>,\n",
       "        <matplotlib.axes._subplots.AxesSubplot object at 0x119b9c5f8>,\n",
       "        <matplotlib.axes._subplots.AxesSubplot object at 0x119be5828>]], dtype=object)"
      ]
     },
     "execution_count": 25,
     "metadata": {},
     "output_type": "execute_result"
    },
    {
     "data": {
      "image/png": "[encoded data removed]",
      "text/plain": [
       "<matplotlib.figure.Figure at 0x119763630>"
      ]
     },
     "metadata": {},
     "output_type": "display_data"
    }
   ],
   "source": [
    "df_reduced = pd.DataFrame(df_reduced)\n",
    "pd.plotting.scatter_matrix(df_reduced, alpha = .2)"
   ]
  },
  {
   "cell_type": "markdown",
   "metadata": {
    "collapsed": true
   },
   "source": [
    "# Some info from PCA return"
   ]
  },
  {
   "cell_type": "code",
   "execution_count": 30,
   "metadata": {
    "collapsed": false
   },
   "outputs": [
    {
     "data": {
      "text/plain": [
       "(3, 18)"
      ]
     },
     "execution_count": 30,
     "metadata": {},
     "output_type": "execute_result"
    }
   ],
   "source": [
    "pca.components_.shape"
   ]
  },
  {
   "cell_type": "code",
   "execution_count": 32,
   "metadata": {
    "collapsed": false
   },
   "outputs": [
    {
     "data": {
      "text/plain": [
       "array([-0.02278525,  0.01385518, -0.22211618, -0.21439913, -0.53339307,\n",
       "       -0.08633617, -0.52950481, -0.09239547,  0.01514178,  0.03776326,\n",
       "       -0.00475252, -0.00388681,  0.01703806,  0.0269922 , -0.01032532,\n",
       "       -0.52470639, -0.21206133, -0.00256597])"
      ]
     },
     "execution_count": 32,
     "metadata": {},
     "output_type": "execute_result"
    }
   ],
   "source": [
    "pca.components_[0]"
   ]
  },
  {
   "cell_type": "code",
   "execution_count": 36,
   "metadata": {
    "collapsed": false
   },
   "outputs": [
    {
     "data": {
      "text/plain": [
       "4"
      ]
     },
     "execution_count": 36,
     "metadata": {},
     "output_type": "execute_result"
    }
   ],
   "source": [
    "np.argmax(np.abs(pca.components_[0]))"
   ]
  },
  {
   "cell_type": "code",
   "execution_count": 37,
   "metadata": {
    "collapsed": false
   },
   "outputs": [
    {
     "data": {
      "text/plain": [
       "-0.53339307310245243"
      ]
     },
     "execution_count": 37,
     "metadata": {},
     "output_type": "execute_result"
    }
   ],
   "source": [
    "pca.components_[0][4]"
   ]
  },
  {
   "cell_type": "code",
   "execution_count": 38,
   "metadata": {
    "collapsed": false
   },
   "outputs": [
    {
     "data": {
      "text/plain": [
       "'drs203'"
      ]
     },
     "execution_count": 38,
     "metadata": {},
     "output_type": "execute_result"
    }
   ],
   "source": [
    "df.columns[4]"
   ]
  },
  {
   "cell_type": "code",
   "execution_count": 39,
   "metadata": {
    "collapsed": false
   },
   "outputs": [
    {
     "data": {
      "text/plain": [
       "16"
      ]
     },
     "execution_count": 39,
     "metadata": {},
     "output_type": "execute_result"
    }
   ],
   "source": [
    "np.argmax(np.abs(pca.components_[1]))"
   ]
  },
  {
   "cell_type": "code",
   "execution_count": 40,
   "metadata": {
    "collapsed": false
   },
   "outputs": [
    {
     "data": {
      "text/plain": [
       "'wdb83'"
      ]
     },
     "execution_count": 40,
     "metadata": {},
     "output_type": "execute_result"
    }
   ],
   "source": [
    "df.columns[16]"
   ]
  },
  {
   "cell_type": "code",
   "execution_count": null,
   "metadata": {
    "collapsed": true
   },
   "outputs": [],
   "source": []
  }
 ],
 "metadata": {
  "anaconda-cloud": {},
  "kernelspec": {
   "display_name": "Python [Root]",
   "language": "python",
   "name": "Python [Root]"
  },
  "language_info": {
   "codemirror_mode": {
    "name": "ipython",
    "version": 3
   },
   "file_extension": ".py",
   "mimetype": "text/x-python",
   "name": "python",
   "nbconvert_exporter": "python",
   "pygments_lexer": "ipython3",
   "version": "3.5.2"
  }
 },
 "nbformat": 4,
 "nbformat_minor": 0
}
