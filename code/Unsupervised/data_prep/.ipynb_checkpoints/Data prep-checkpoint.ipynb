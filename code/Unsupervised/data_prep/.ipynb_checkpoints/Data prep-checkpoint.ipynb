{
 "cells": [
  {
   "cell_type": "code",
   "execution_count": 4,
   "metadata": {
    "collapsed": false
   },
   "outputs": [],
   "source": [
    "import pandas as pd\n",
    "import numpy as np\n",
    "from sklearn.preprocessing import scale"
   ]
  },
  {
   "cell_type": "markdown",
   "metadata": {},
   "source": [
    "# You can scale your data or normalize"
   ]
  },
  {
   "cell_type": "code",
   "execution_count": 5,
   "metadata": {
    "collapsed": false
   },
   "outputs": [],
   "source": [
    "# generally scaling your data means conforming that data to have a range from 0 to 1\n",
    "# however in sklearn this actually NORMALIZES your data, which is more robust to outliers \n",
    "df = pd.read_csv('daily_activities_and_happiness.csv')"
   ]
  },
  {
   "cell_type": "code",
   "execution_count": 6,
   "metadata": {
    "collapsed": false
   },
   "outputs": [
    {
     "data": {
      "text/html": [
       "<div>\n",
       "<style>\n",
       "    .dataframe thead tr:only-child th {\n",
       "        text-align: right;\n",
       "    }\n",
       "\n",
       "    .dataframe thead th {\n",
       "        text-align: left;\n",
       "    }\n",
       "\n",
       "    .dataframe tbody tr th {\n",
       "        vertical-align: top;\n",
       "    }\n",
       "</style>\n",
       "<table border=\"1\" class=\"dataframe\">\n",
       "  <thead>\n",
       "    <tr style=\"text-align: right;\">\n",
       "      <th></th>\n",
       "      <th>daily_minutes_hobby</th>\n",
       "      <th>daily_minutes_exercise</th>\n",
       "      <th>daily_minutes_grooming</th>\n",
       "      <th>daily_minutes_commuting</th>\n",
       "      <th>daily_minutes_tv</th>\n",
       "      <th>daily_minutes_talking_to_friend</th>\n",
       "      <th>happiness_rating</th>\n",
       "    </tr>\n",
       "  </thead>\n",
       "  <tbody>\n",
       "    <tr>\n",
       "      <th>0</th>\n",
       "      <td>19</td>\n",
       "      <td>16</td>\n",
       "      <td>14</td>\n",
       "      <td>20</td>\n",
       "      <td>95</td>\n",
       "      <td>22</td>\n",
       "      <td>2</td>\n",
       "    </tr>\n",
       "    <tr>\n",
       "      <th>1</th>\n",
       "      <td>17</td>\n",
       "      <td>23</td>\n",
       "      <td>8</td>\n",
       "      <td>64</td>\n",
       "      <td>72</td>\n",
       "      <td>14</td>\n",
       "      <td>1</td>\n",
       "    </tr>\n",
       "    <tr>\n",
       "      <th>2</th>\n",
       "      <td>20</td>\n",
       "      <td>21</td>\n",
       "      <td>18</td>\n",
       "      <td>53</td>\n",
       "      <td>30</td>\n",
       "      <td>18</td>\n",
       "      <td>2</td>\n",
       "    </tr>\n",
       "    <tr>\n",
       "      <th>3</th>\n",
       "      <td>23</td>\n",
       "      <td>21</td>\n",
       "      <td>20</td>\n",
       "      <td>65</td>\n",
       "      <td>22</td>\n",
       "      <td>15</td>\n",
       "      <td>2</td>\n",
       "    </tr>\n",
       "    <tr>\n",
       "      <th>4</th>\n",
       "      <td>28</td>\n",
       "      <td>7</td>\n",
       "      <td>19</td>\n",
       "      <td>38</td>\n",
       "      <td>36</td>\n",
       "      <td>14</td>\n",
       "      <td>2</td>\n",
       "    </tr>\n",
       "  </tbody>\n",
       "</table>\n",
       "</div>"
      ],
      "text/plain": [
       "\n",
       "   daily_minutes_hobby  daily_minutes_exercise  daily_minutes_grooming  \\\n",
       "0                   19                      16                      14   \n",
       "1                   17                      23                       8   \n",
       "2                   20                      21                      18   \n",
       "3                   23                      21                      20   \n",
       "4                   28                       7                      19   \n",
       "\n",
       "   daily_minutes_commuting  daily_minutes_tv  daily_minutes_talking_to_friend  \\\n",
       "0                       20                95                               22   \n",
       "1                       64                72                               14   \n",
       "2                       53                30                               18   \n",
       "3                       65                22                               15   \n",
       "4                       38                36                               14   \n",
       "\n",
       "   happiness_rating  \n",
       "0                 2  \n",
       "1                 1  \n",
       "2                 2  \n",
       "3                 2  \n",
       "4                 2  "
      ]
     },
     "metadata": {},
     "output_type": "display_data"
    }
   ],
   "source": [
    "df.head()"
   ]
  },
  {
   "cell_type": "code",
   "execution_count": 10,
   "metadata": {
    "collapsed": true
   },
   "outputs": [],
   "source": [
    "scale??"
   ]
  },
  {
   "cell_type": "markdown",
   "metadata": {},
   "source": [
    "# Think about extracting data from irregular\n",
    "# and heterogenous time series"
   ]
  },
  {
   "cell_type": "code",
   "execution_count": 23,
   "metadata": {
    "collapsed": false
   },
   "outputs": [],
   "source": [
    "from numpy.random import poisson, randint, choice"
   ]
  },
  {
   "cell_type": "code",
   "execution_count": 18,
   "metadata": {
    "collapsed": false
   },
   "outputs": [
    {
     "data": {
      "text/plain": [
       "array([7, 4, 4, 6, 3, 5, 4, 3, 3, 3])"
      ]
     },
     "execution_count": 18,
     "metadata": {},
     "output_type": "execute_result"
    }
   ],
   "source": [
    "poisson(lam = 5, size = 10)"
   ]
  },
  {
   "cell_type": "code",
   "execution_count": 36,
   "metadata": {
    "collapsed": true
   },
   "outputs": [],
   "source": [
    "user_dates = []\n",
    "user_vals = []\n",
    "possible_indices = list(range(10))\n",
    "for _ in range(10):\n",
    "    dates = pd.date_range('2017-06-11', periods = 10, freq = 'd')\n",
    "    num_indices = randint(low = 1, high = 10)\n",
    "    indices = choice(a = possible_indices, size = num_indices, replace = False)\n",
    "    use_dates = dates[sorted(indices)]\n",
    "    use_vals = poisson(lam = 10, size = num_indices)\n",
    "    user_dates.append(use_dates)\n",
    "    user_vals.append(use_vals)\n",
    "    \n",
    "df = pd.DataFrame({'dates': user_dates,\n",
    "                  'vals': user_vals})"
   ]
  },
  {
   "cell_type": "code",
   "execution_count": 37,
   "metadata": {
    "collapsed": false
   },
   "outputs": [
    {
     "data": {
      "text/html": [
       "<div>\n",
       "<style>\n",
       "    .dataframe thead tr:only-child th {\n",
       "        text-align: right;\n",
       "    }\n",
       "\n",
       "    .dataframe thead th {\n",
       "        text-align: left;\n",
       "    }\n",
       "\n",
       "    .dataframe tbody tr th {\n",
       "        vertical-align: top;\n",
       "    }\n",
       "</style>\n",
       "<table border=\"1\" class=\"dataframe\">\n",
       "  <thead>\n",
       "    <tr style=\"text-align: right;\">\n",
       "      <th></th>\n",
       "      <th>dates</th>\n",
       "      <th>vals</th>\n",
       "    </tr>\n",
       "  </thead>\n",
       "  <tbody>\n",
       "    <tr>\n",
       "      <th>0</th>\n",
       "      <td>DatetimeIndex(['2017-06-12', '2017-06-14', '20...</td>\n",
       "      <td>[6, 10, 7, 7, 5]</td>\n",
       "    </tr>\n",
       "    <tr>\n",
       "      <th>1</th>\n",
       "      <td>DatetimeIndex(['2017-06-18'], dtype='datetime6...</td>\n",
       "      <td>[11]</td>\n",
       "    </tr>\n",
       "    <tr>\n",
       "      <th>2</th>\n",
       "      <td>DatetimeIndex(['2017-06-12', '2017-06-13', '20...</td>\n",
       "      <td>[5, 12, 10, 10, 10, 10, 12, 10, 6]</td>\n",
       "    </tr>\n",
       "    <tr>\n",
       "      <th>3</th>\n",
       "      <td>DatetimeIndex(['2017-06-11', '2017-06-12', '20...</td>\n",
       "      <td>[14, 8, 5, 4, 10, 7, 12, 14, 6]</td>\n",
       "    </tr>\n",
       "    <tr>\n",
       "      <th>4</th>\n",
       "      <td>DatetimeIndex(['2017-06-11', '2017-06-12', '20...</td>\n",
       "      <td>[11, 7, 13, 12, 6, 11, 14, 14, 10]</td>\n",
       "    </tr>\n",
       "    <tr>\n",
       "      <th>5</th>\n",
       "      <td>DatetimeIndex(['2017-06-11', '2017-06-13', '20...</td>\n",
       "      <td>[19, 6, 15, 15, 4]</td>\n",
       "    </tr>\n",
       "    <tr>\n",
       "      <th>6</th>\n",
       "      <td>DatetimeIndex(['2017-06-11', '2017-06-12', '20...</td>\n",
       "      <td>[6, 16, 4, 11, 14, 6, 7, 9]</td>\n",
       "    </tr>\n",
       "    <tr>\n",
       "      <th>7</th>\n",
       "      <td>DatetimeIndex(['2017-06-15', '2017-06-18'], dt...</td>\n",
       "      <td>[13, 10]</td>\n",
       "    </tr>\n",
       "    <tr>\n",
       "      <th>8</th>\n",
       "      <td>DatetimeIndex(['2017-06-11', '2017-06-12', '20...</td>\n",
       "      <td>[12, 11, 13, 10, 10, 9, 9, 11, 11]</td>\n",
       "    </tr>\n",
       "    <tr>\n",
       "      <th>9</th>\n",
       "      <td>DatetimeIndex(['2017-06-13', '2017-06-15', '20...</td>\n",
       "      <td>[14, 10, 10, 14]</td>\n",
       "    </tr>\n",
       "  </tbody>\n",
       "</table>\n",
       "</div>"
      ],
      "text/plain": [
       "\n",
       "                                               dates  \\\n",
       "0  DatetimeIndex(['2017-06-12', '2017-06-14', '20...   \n",
       "1  DatetimeIndex(['2017-06-18'], dtype='datetime6...   \n",
       "2  DatetimeIndex(['2017-06-12', '2017-06-13', '20...   \n",
       "3  DatetimeIndex(['2017-06-11', '2017-06-12', '20...   \n",
       "4  DatetimeIndex(['2017-06-11', '2017-06-12', '20...   \n",
       "5  DatetimeIndex(['2017-06-11', '2017-06-13', '20...   \n",
       "6  DatetimeIndex(['2017-06-11', '2017-06-12', '20...   \n",
       "7  DatetimeIndex(['2017-06-15', '2017-06-18'], dt...   \n",
       "8  DatetimeIndex(['2017-06-11', '2017-06-12', '20...   \n",
       "9  DatetimeIndex(['2017-06-13', '2017-06-15', '20...   \n",
       "\n",
       "                                 vals  \n",
       "0                    [6, 10, 7, 7, 5]  \n",
       "1                                [11]  \n",
       "2  [5, 12, 10, 10, 10, 10, 12, 10, 6]  \n",
       "3     [14, 8, 5, 4, 10, 7, 12, 14, 6]  \n",
       "4  [11, 7, 13, 12, 6, 11, 14, 14, 10]  \n",
       "5                  [19, 6, 15, 15, 4]  \n",
       "6         [6, 16, 4, 11, 14, 6, 7, 9]  \n",
       "7                            [13, 10]  \n",
       "8  [12, 11, 13, 10, 10, 9, 9, 11, 11]  \n",
       "9                    [14, 10, 10, 14]  "
      ]
     },
     "metadata": {},
     "output_type": "display_data"
    }
   ],
   "source": [
    "df"
   ]
  },
  {
   "cell_type": "code",
   "execution_count": 40,
   "metadata": {
    "collapsed": false
   },
   "outputs": [
    {
     "data": {
      "text/plain": [
       "DatetimeIndex(['2017-06-12', '2017-06-13', '2017-06-14', '2017-06-15',\n",
       "               '2017-06-16', '2017-06-17', '2017-06-18', '2017-06-19',\n",
       "               '2017-06-20'],\n",
       "              dtype='datetime64[ns]', freq=None)"
      ]
     },
     "execution_count": 40,
     "metadata": {},
     "output_type": "execute_result"
    }
   ],
   "source": [
    "df.loc[2]['dates']"
   ]
  },
  {
   "cell_type": "markdown",
   "metadata": {},
   "source": [
    "# Think about how you might characterize these individuals"
   ]
  },
  {
   "cell_type": "code",
   "execution_count": 41,
   "metadata": {
    "collapsed": true
   },
   "outputs": [],
   "source": [
    "# high use/ low use individuals\n",
    "df['usage_val'] = df.vals.apply(lambda x: len(x))"
   ]
  },
  {
   "cell_type": "code",
   "execution_count": 42,
   "metadata": {
    "collapsed": false
   },
   "outputs": [
    {
     "data": {
      "text/html": [
       "<div>\n",
       "<style>\n",
       "    .dataframe thead tr:only-child th {\n",
       "        text-align: right;\n",
       "    }\n",
       "\n",
       "    .dataframe thead th {\n",
       "        text-align: left;\n",
       "    }\n",
       "\n",
       "    .dataframe tbody tr th {\n",
       "        vertical-align: top;\n",
       "    }\n",
       "</style>\n",
       "<table border=\"1\" class=\"dataframe\">\n",
       "  <thead>\n",
       "    <tr style=\"text-align: right;\">\n",
       "      <th></th>\n",
       "      <th>dates</th>\n",
       "      <th>vals</th>\n",
       "      <th>usage_val</th>\n",
       "    </tr>\n",
       "  </thead>\n",
       "  <tbody>\n",
       "    <tr>\n",
       "      <th>0</th>\n",
       "      <td>DatetimeIndex(['2017-06-12', '2017-06-14', '20...</td>\n",
       "      <td>[6, 10, 7, 7, 5]</td>\n",
       "      <td>5</td>\n",
       "    </tr>\n",
       "    <tr>\n",
       "      <th>1</th>\n",
       "      <td>DatetimeIndex(['2017-06-18'], dtype='datetime6...</td>\n",
       "      <td>[11]</td>\n",
       "      <td>1</td>\n",
       "    </tr>\n",
       "    <tr>\n",
       "      <th>2</th>\n",
       "      <td>DatetimeIndex(['2017-06-12', '2017-06-13', '20...</td>\n",
       "      <td>[5, 12, 10, 10, 10, 10, 12, 10, 6]</td>\n",
       "      <td>9</td>\n",
       "    </tr>\n",
       "    <tr>\n",
       "      <th>3</th>\n",
       "      <td>DatetimeIndex(['2017-06-11', '2017-06-12', '20...</td>\n",
       "      <td>[14, 8, 5, 4, 10, 7, 12, 14, 6]</td>\n",
       "      <td>9</td>\n",
       "    </tr>\n",
       "    <tr>\n",
       "      <th>4</th>\n",
       "      <td>DatetimeIndex(['2017-06-11', '2017-06-12', '20...</td>\n",
       "      <td>[11, 7, 13, 12, 6, 11, 14, 14, 10]</td>\n",
       "      <td>9</td>\n",
       "    </tr>\n",
       "  </tbody>\n",
       "</table>\n",
       "</div>"
      ],
      "text/plain": [
       "\n",
       "                                               dates  \\\n",
       "0  DatetimeIndex(['2017-06-12', '2017-06-14', '20...   \n",
       "1  DatetimeIndex(['2017-06-18'], dtype='datetime6...   \n",
       "2  DatetimeIndex(['2017-06-12', '2017-06-13', '20...   \n",
       "3  DatetimeIndex(['2017-06-11', '2017-06-12', '20...   \n",
       "4  DatetimeIndex(['2017-06-11', '2017-06-12', '20...   \n",
       "\n",
       "                                 vals  usage_val  \n",
       "0                    [6, 10, 7, 7, 5]          5  \n",
       "1                                [11]          1  \n",
       "2  [5, 12, 10, 10, 10, 10, 12, 10, 6]          9  \n",
       "3     [14, 8, 5, 4, 10, 7, 12, 14, 6]          9  \n",
       "4  [11, 7, 13, 12, 6, 11, 14, 14, 10]          9  "
      ]
     },
     "metadata": {},
     "output_type": "display_data"
    }
   ],
   "source": [
    "df.head()"
   ]
  },
  {
   "cell_type": "code",
   "execution_count": 43,
   "metadata": {
    "collapsed": true
   },
   "outputs": [],
   "source": [
    "# how long was the 'user lifetime'?\n",
    "df['user_lifetime'] = df.dates.apply(lambda x: max(x) - min(x))"
   ]
  },
  {
   "cell_type": "code",
   "execution_count": 44,
   "metadata": {
    "collapsed": false
   },
   "outputs": [
    {
     "data": {
      "text/html": [
       "<div>\n",
       "<style>\n",
       "    .dataframe thead tr:only-child th {\n",
       "        text-align: right;\n",
       "    }\n",
       "\n",
       "    .dataframe thead th {\n",
       "        text-align: left;\n",
       "    }\n",
       "\n",
       "    .dataframe tbody tr th {\n",
       "        vertical-align: top;\n",
       "    }\n",
       "</style>\n",
       "<table border=\"1\" class=\"dataframe\">\n",
       "  <thead>\n",
       "    <tr style=\"text-align: right;\">\n",
       "      <th></th>\n",
       "      <th>dates</th>\n",
       "      <th>vals</th>\n",
       "      <th>usage_val</th>\n",
       "      <th>user_lifetime</th>\n",
       "    </tr>\n",
       "  </thead>\n",
       "  <tbody>\n",
       "    <tr>\n",
       "      <th>0</th>\n",
       "      <td>DatetimeIndex(['2017-06-12', '2017-06-14', '20...</td>\n",
       "      <td>[6, 10, 7, 7, 5]</td>\n",
       "      <td>5</td>\n",
       "      <td>6 days</td>\n",
       "    </tr>\n",
       "    <tr>\n",
       "      <th>1</th>\n",
       "      <td>DatetimeIndex(['2017-06-18'], dtype='datetime6...</td>\n",
       "      <td>[11]</td>\n",
       "      <td>1</td>\n",
       "      <td>0 days</td>\n",
       "    </tr>\n",
       "    <tr>\n",
       "      <th>2</th>\n",
       "      <td>DatetimeIndex(['2017-06-12', '2017-06-13', '20...</td>\n",
       "      <td>[5, 12, 10, 10, 10, 10, 12, 10, 6]</td>\n",
       "      <td>9</td>\n",
       "      <td>8 days</td>\n",
       "    </tr>\n",
       "    <tr>\n",
       "      <th>3</th>\n",
       "      <td>DatetimeIndex(['2017-06-11', '2017-06-12', '20...</td>\n",
       "      <td>[14, 8, 5, 4, 10, 7, 12, 14, 6]</td>\n",
       "      <td>9</td>\n",
       "      <td>9 days</td>\n",
       "    </tr>\n",
       "    <tr>\n",
       "      <th>4</th>\n",
       "      <td>DatetimeIndex(['2017-06-11', '2017-06-12', '20...</td>\n",
       "      <td>[11, 7, 13, 12, 6, 11, 14, 14, 10]</td>\n",
       "      <td>9</td>\n",
       "      <td>9 days</td>\n",
       "    </tr>\n",
       "  </tbody>\n",
       "</table>\n",
       "</div>"
      ],
      "text/plain": [
       "\n",
       "                                               dates  \\\n",
       "0  DatetimeIndex(['2017-06-12', '2017-06-14', '20...   \n",
       "1  DatetimeIndex(['2017-06-18'], dtype='datetime6...   \n",
       "2  DatetimeIndex(['2017-06-12', '2017-06-13', '20...   \n",
       "3  DatetimeIndex(['2017-06-11', '2017-06-12', '20...   \n",
       "4  DatetimeIndex(['2017-06-11', '2017-06-12', '20...   \n",
       "\n",
       "                                 vals  usage_val user_lifetime  \n",
       "0                    [6, 10, 7, 7, 5]          5        6 days  \n",
       "1                                [11]          1        0 days  \n",
       "2  [5, 12, 10, 10, 10, 10, 12, 10, 6]          9        8 days  \n",
       "3     [14, 8, 5, 4, 10, 7, 12, 14, 6]          9        9 days  \n",
       "4  [11, 7, 13, 12, 6, 11, 14, 14, 10]          9        9 days  "
      ]
     },
     "metadata": {},
     "output_type": "display_data"
    }
   ],
   "source": [
    "df.head()"
   ]
  },
  {
   "cell_type": "code",
   "execution_count": 46,
   "metadata": {
    "collapsed": false
   },
   "outputs": [],
   "source": [
    "# what was the range of values a user input?\n",
    "df['range_values'] = df.vals.apply(lambda x: max(x) - min(x))"
   ]
  },
  {
   "cell_type": "code",
   "execution_count": 47,
   "metadata": {
    "collapsed": false
   },
   "outputs": [
    {
     "data": {
      "text/html": [
       "<div>\n",
       "<style>\n",
       "    .dataframe thead tr:only-child th {\n",
       "        text-align: right;\n",
       "    }\n",
       "\n",
       "    .dataframe thead th {\n",
       "        text-align: left;\n",
       "    }\n",
       "\n",
       "    .dataframe tbody tr th {\n",
       "        vertical-align: top;\n",
       "    }\n",
       "</style>\n",
       "<table border=\"1\" class=\"dataframe\">\n",
       "  <thead>\n",
       "    <tr style=\"text-align: right;\">\n",
       "      <th></th>\n",
       "      <th>dates</th>\n",
       "      <th>vals</th>\n",
       "      <th>usage_val</th>\n",
       "      <th>user_lifetime</th>\n",
       "      <th>range_values</th>\n",
       "    </tr>\n",
       "  </thead>\n",
       "  <tbody>\n",
       "    <tr>\n",
       "      <th>0</th>\n",
       "      <td>DatetimeIndex(['2017-06-12', '2017-06-14', '20...</td>\n",
       "      <td>[6, 10, 7, 7, 5]</td>\n",
       "      <td>5</td>\n",
       "      <td>6 days</td>\n",
       "      <td>5</td>\n",
       "    </tr>\n",
       "    <tr>\n",
       "      <th>1</th>\n",
       "      <td>DatetimeIndex(['2017-06-18'], dtype='datetime6...</td>\n",
       "      <td>[11]</td>\n",
       "      <td>1</td>\n",
       "      <td>0 days</td>\n",
       "      <td>0</td>\n",
       "    </tr>\n",
       "    <tr>\n",
       "      <th>2</th>\n",
       "      <td>DatetimeIndex(['2017-06-12', '2017-06-13', '20...</td>\n",
       "      <td>[5, 12, 10, 10, 10, 10, 12, 10, 6]</td>\n",
       "      <td>9</td>\n",
       "      <td>8 days</td>\n",
       "      <td>7</td>\n",
       "    </tr>\n",
       "    <tr>\n",
       "      <th>3</th>\n",
       "      <td>DatetimeIndex(['2017-06-11', '2017-06-12', '20...</td>\n",
       "      <td>[14, 8, 5, 4, 10, 7, 12, 14, 6]</td>\n",
       "      <td>9</td>\n",
       "      <td>9 days</td>\n",
       "      <td>10</td>\n",
       "    </tr>\n",
       "    <tr>\n",
       "      <th>4</th>\n",
       "      <td>DatetimeIndex(['2017-06-11', '2017-06-12', '20...</td>\n",
       "      <td>[11, 7, 13, 12, 6, 11, 14, 14, 10]</td>\n",
       "      <td>9</td>\n",
       "      <td>9 days</td>\n",
       "      <td>8</td>\n",
       "    </tr>\n",
       "  </tbody>\n",
       "</table>\n",
       "</div>"
      ],
      "text/plain": [
       "\n",
       "                                               dates  \\\n",
       "0  DatetimeIndex(['2017-06-12', '2017-06-14', '20...   \n",
       "1  DatetimeIndex(['2017-06-18'], dtype='datetime6...   \n",
       "2  DatetimeIndex(['2017-06-12', '2017-06-13', '20...   \n",
       "3  DatetimeIndex(['2017-06-11', '2017-06-12', '20...   \n",
       "4  DatetimeIndex(['2017-06-11', '2017-06-12', '20...   \n",
       "\n",
       "                                 vals  usage_val user_lifetime  range_values  \n",
       "0                    [6, 10, 7, 7, 5]          5        6 days             5  \n",
       "1                                [11]          1        0 days             0  \n",
       "2  [5, 12, 10, 10, 10, 10, 12, 10, 6]          9        8 days             7  \n",
       "3     [14, 8, 5, 4, 10, 7, 12, 14, 6]          9        9 days            10  \n",
       "4  [11, 7, 13, 12, 6, 11, 14, 14, 10]          9        9 days             8  "
      ]
     },
     "metadata": {},
     "output_type": "display_data"
    }
   ],
   "source": [
    "df.head()"
   ]
  },
  {
   "cell_type": "code",
   "execution_count": 59,
   "metadata": {
    "collapsed": false
   },
   "outputs": [
    {
     "data": {
      "text/plain": [
       "\n",
       "0     True\n",
       "1     True\n",
       "2     True\n",
       "3     True\n",
       "4     True\n",
       "5    False\n",
       "6     True\n",
       "7     True\n",
       "8     True\n",
       "9     True\n",
       "Name: dates, dtype: bool"
      ]
     },
     "metadata": {},
     "output_type": "display_data"
    }
   ],
   "source": [
    "# identify users who provided input on a certain day \n",
    "# (maybe it's revealing that they did log something on Father's Day)\n",
    "df.dates.apply(lambda x: pd.Timestamp('2016-06-18').day in [d.day for d in x])"
   ]
  },
  {
   "cell_type": "code",
   "execution_count": null,
   "metadata": {
    "collapsed": true
   },
   "outputs": [],
   "source": []
  }
 ],
 "metadata": {
  "anaconda-cloud": {},
  "kernelspec": {
   "display_name": "Python [Root]",
   "language": "python",
   "name": "Python [Root]"
  },
  "language_info": {
   "codemirror_mode": {
    "name": "ipython",
    "version": 3
   },
   "file_extension": ".py",
   "mimetype": "text/x-python",
   "name": "python",
   "nbconvert_exporter": "python",
   "pygments_lexer": "ipython3",
   "version": "3.5.2"
  }
 },
 "nbformat": 4,
 "nbformat_minor": 0
}
