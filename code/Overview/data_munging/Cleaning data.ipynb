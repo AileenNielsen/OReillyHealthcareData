{
 "cells": [
  {
   "cell_type": "code",
   "execution_count": null,
   "metadata": {
    "collapsed": true
   },
   "outputs": [],
   "source": [
    "import pandas as pd"
   ]
  },
  {
   "cell_type": "code",
   "execution_count": null,
   "metadata": {
    "collapsed": false
   },
   "outputs": [],
   "source": [
    "data = pd.DataFrame({\n",
    "        'first_name': [\"Diana\", \"La'Toya\", \"Anne Marie\", \"Billy-Jean\"],\n",
    "        'last_name': [\"Milbank-Stapleton\", \"O'Shaughnessy\", \"Brown\", \"Queen\"],\n",
    "        'location': ['NYC', 'NYC', 'Chicago', 'Chicago'],\n",
    "        'med_timestamp' : [1495397700, 1495721700, 1496341020, 1497286980],\n",
    "        'distance_walked': [1.4, 3.7, 11.3, 5.1],\n",
    "        'distance_units': ['mi', 'mi', 'km', 'mi']\n",
    "    })"
   ]
  },
  {
   "cell_type": "markdown",
   "metadata": {},
   "source": [
    "## Remove alphanumeric case dependencies"
   ]
  },
  {
   "cell_type": "code",
   "execution_count": null,
   "metadata": {
    "collapsed": false
   },
   "outputs": [],
   "source": [
    "data.first_name = data.first_name.apply(lambda x: x.upper())\n",
    "data.last_name = data.last_name.apply(lambda x: x.upper())"
   ]
  },
  {
   "cell_type": "code",
   "execution_count": null,
   "metadata": {
    "collapsed": true
   },
   "outputs": [],
   "source": [
    "# instead of making an exhaustive list of characters to remove, require alphanumeric\n",
    "def alphanum(s):\n",
    "    return(''.join(lett for lett in s if lett.isalnum()))"
   ]
  },
  {
   "cell_type": "code",
   "execution_count": null,
   "metadata": {
    "collapsed": true
   },
   "outputs": [],
   "source": [
    "data.first_name = data.first_name.apply(lambda x: alphanum(x.upper()))\n",
    "data.last_name = data.last_name.apply(lambda x: alphanum(x.upper()))"
   ]
  },
  {
   "cell_type": "code",
   "execution_count": null,
   "metadata": {
    "collapsed": false
   },
   "outputs": [],
   "source": [
    "data.head()"
   ]
  },
  {
   "cell_type": "markdown",
   "metadata": {},
   "source": [
    "## Convert timestamps to local time"
   ]
  },
  {
   "cell_type": "code",
   "execution_count": null,
   "metadata": {
    "collapsed": true
   },
   "outputs": [],
   "source": [
    "location_tzs = {\n",
    "    'Chicago': 'America/Chicago',\n",
    "    'NYC': 'America/New_York'\n",
    "}"
   ]
  },
  {
   "cell_type": "code",
   "execution_count": null,
   "metadata": {
    "collapsed": false
   },
   "outputs": [],
   "source": [
    "data.head()"
   ]
  },
  {
   "cell_type": "code",
   "execution_count": null,
   "metadata": {
    "collapsed": false
   },
   "outputs": [],
   "source": [
    "import datetime\n",
    "def process_row(r):\n",
    "    t = datetime.datetime.utcfromtimestamp(r['med_timestamp'])\n",
    "    t2 = pd.Timestamp(t)\n",
    "    t2 = t2.tz_localize('UTC')\n",
    "    t2 = t2.tz_convert(location_tzs[r['location']])\n",
    "    return(t2)"
   ]
  },
  {
   "cell_type": "code",
   "execution_count": null,
   "metadata": {
    "collapsed": false
   },
   "outputs": [],
   "source": [
    "data['actual_timestamp'] = data.apply(process_row, axis = 1)"
   ]
  },
  {
   "cell_type": "code",
   "execution_count": null,
   "metadata": {
    "collapsed": false
   },
   "outputs": [],
   "source": [
    "data.head()"
   ]
  },
  {
   "cell_type": "markdown",
   "metadata": {},
   "source": [
    "## Unit conversions"
   ]
  },
  {
   "cell_type": "code",
   "execution_count": null,
   "metadata": {
    "collapsed": true
   },
   "outputs": [],
   "source": [
    "# say you want all distances in miles, but you have some holdouts\n",
    "# again we'll process the entire row"
   ]
  },
  {
   "cell_type": "code",
   "execution_count": null,
   "metadata": {
    "collapsed": false
   },
   "outputs": [],
   "source": [
    "CONVERSION_FACTOR_KM_TO_MI = .6213\n",
    "def process_row(r):\n",
    "    units = r['distance_units']\n",
    "    value = r['distance_walked']\n",
    "    if r['distance_units'].lower() == 'mi':\n",
    "        pass\n",
    "    elif r['distance_units'].lower() == 'km':\n",
    "        # better to have this as a constant somewhere your \n",
    "        # entire code base can share it\n",
    "        value = value * CONVERSION_FACTOR_KM_TO_MI\n",
    "    return(value)\n",
    "data['miles_walked'] = data.apply(process_row, axis = 1)"
   ]
  },
  {
   "cell_type": "code",
   "execution_count": null,
   "metadata": {
    "collapsed": false
   },
   "outputs": [],
   "source": [
    "data.head()"
   ]
  },
  {
   "cell_type": "markdown",
   "metadata": {},
   "source": [
    "## Look at your data"
   ]
  },
  {
   "cell_type": "code",
   "execution_count": null,
   "metadata": {
    "collapsed": true
   },
   "outputs": [],
   "source": [
    "# think about how you got your data and \n",
    "# what mistakes people are likely to make"
   ]
  },
  {
   "cell_type": "code",
   "execution_count": null,
   "metadata": {
    "collapsed": true
   },
   "outputs": [],
   "source": [
    "# hint: bimodal plots are a good tipoff \n",
    "# as are values that are outliers by an order of magnitude under/over"
   ]
  },
  {
   "cell_type": "code",
   "execution_count": null,
   "metadata": {
    "collapsed": true
   },
   "outputs": [],
   "source": [
    "# also again your user interface, looking for likely mistakes\n",
    "# talk to support folks or clinicians and ask what mistakes they notice"
   ]
  },
  {
   "cell_type": "code",
   "execution_count": null,
   "metadata": {
    "collapsed": true
   },
   "outputs": [],
   "source": []
  }
 ],
 "metadata": {
  "anaconda-cloud": {},
  "kernelspec": {
   "display_name": "Python [Root]",
   "language": "python",
   "name": "Python [Root]"
  },
  "language_info": {
   "codemirror_mode": {
    "name": "ipython",
    "version": 3
   },
   "file_extension": ".py",
   "mimetype": "text/x-python",
   "name": "python",
   "nbconvert_exporter": "python",
   "pygments_lexer": "ipython3",
   "version": "3.5.2"
  }
 },
 "nbformat": 4,
 "nbformat_minor": 0
}
