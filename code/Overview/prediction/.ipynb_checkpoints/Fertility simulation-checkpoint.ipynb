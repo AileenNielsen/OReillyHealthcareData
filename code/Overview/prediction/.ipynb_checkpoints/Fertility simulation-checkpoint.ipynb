{
 "cells": [
  {
   "cell_type": "code",
   "execution_count": 7,
   "metadata": {
    "collapsed": true
   },
   "outputs": [],
   "source": [
    "import pandas as pd\n",
    "import numpy as np"
   ]
  },
  {
   "cell_type": "code",
   "execution_count": 8,
   "metadata": {
    "collapsed": true
   },
   "outputs": [],
   "source": [
    "SIZE = 10000\n",
    "smoking = np.random.binomial(n = 1, p = .2, size = SIZE)\n",
    "age = np.random.randint(low = 20, high = 50, size = SIZE)\n",
    "trauma = np.random.binomial(n = 1, p = .05, size = SIZE)\n",
    "sedentary = np.random.randint(low = 0, high = 8, size = SIZE)"
   ]
  },
  {
   "cell_type": "code",
   "execution_count": 9,
   "metadata": {
    "collapsed": true
   },
   "outputs": [],
   "source": [
    "outcome = [np.random.binomial(n = 1, p = ((20 + smoke*10 + (a-20)*.05 + t*-10 + sed*5))/100) for (smoke, a, t, sed) in zip(smoking, age, trauma, sedentary)]"
   ]
  },
  {
   "cell_type": "code",
   "execution_count": 10,
   "metadata": {
    "collapsed": true
   },
   "outputs": [],
   "source": [
    "df = pd.DataFrame({'smoking':smoking,\n",
    "                  'age':age,\n",
    "                  'trauma':trauma,\n",
    "                  'sedentary':sedentary,\n",
    "                  'outcome': outcome})"
   ]
  },
  {
   "cell_type": "code",
   "execution_count": 12,
   "metadata": {
    "collapsed": true
   },
   "outputs": [],
   "source": [
    "df.to_csv('fertility_simulated.csv', index_label=None)"
   ]
  },
  {
   "cell_type": "code",
   "execution_count": null,
   "metadata": {
    "collapsed": true
   },
   "outputs": [],
   "source": []
  }
 ],
 "metadata": {
  "kernelspec": {
   "display_name": "Python [Root]",
   "language": "python",
   "name": "Python [Root]"
  },
  "language_info": {
   "codemirror_mode": {
    "name": "ipython",
    "version": 3
   },
   "file_extension": ".py",
   "mimetype": "text/x-python",
   "name": "python",
   "nbconvert_exporter": "python",
   "pygments_lexer": "ipython3",
   "version": "3.5.2"
  }
 },
 "nbformat": 4,
 "nbformat_minor": 0
}
